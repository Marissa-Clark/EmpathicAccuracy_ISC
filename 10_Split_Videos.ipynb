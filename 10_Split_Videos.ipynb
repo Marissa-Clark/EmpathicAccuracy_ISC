{
 "cells": [
  {
   "cell_type": "markdown",
   "metadata": {},
   "source": [
    "# 01_Split_Videos.ipynb\n",
    "\n",
    "Original code from Carolyn Parkinson & modified for personal use\n",
    "\n",
    "Creates fslroi command to split whole run into individual videos\n",
    "\n",
    "Input: \n",
    "\n",
    "* Run Ref File\n",
    "    \n",
    "    *  /Users/mdclark/Desktop/EmpAcc/data/behavioraldata/scanfiles/239_run_ref.csv\n",
    "    * Contains \"sub_id, trial, video_number, self_other, neg_pos, scan_start, video_start, video_start_rts, run\"\n",
    "   \n",
    "* Run File\n",
    "    \n",
    "Output: \n",
    "   \n",
    "* Video run file"
   ]
  },
  {
   "cell_type": "code",
   "execution_count": 1,
   "metadata": {
    "collapsed": false
   },
   "outputs": [],
   "source": [
    "import os\n",
    "import subprocess\n",
    "import pandas as pd\n",
    "\n",
    "from nilearn import input_data\n",
    "import matplotlib.pyplot as plt\n",
    "\n",
    "import matplotlib.pyplot as plt\n",
    "%matplotlib inline"
   ]
  },
  {
   "cell_type": "code",
   "execution_count": 2,
   "metadata": {
    "collapsed": true
   },
   "outputs": [],
   "source": [
    "# define a function to execute shell commands\n",
    "def sh(c):\n",
    "    '''\n",
    "    run shell commands\n",
    "    '''\n",
    "    subprocess.call(c, shell = True)\n",
    "    \n",
    "import math\n",
    "\n",
    "def round_up_to_even(f):\n",
    "    return math.ceil(f / 2.) * 2"
   ]
  },
  {
   "cell_type": "code",
   "execution_count": 15,
   "metadata": {
    "collapsed": false
   },
   "outputs": [],
   "source": [
    "# get subject data\n",
    "\n",
    "sub = \"245\"\n",
    "subject = \"sub-\" + sub\n",
    "run = 2\n",
    "\n",
    "# set filepaths\n",
    "data_filepath = os.path.join(\"/Users/mdclark/Desktop/ISCAnalysis/data/\", subject, \"func\")\n",
    "                             \n",
    "reference_filepath = (\"/Users/mdclark/Desktop/EmpAcc/data/behavioraldata/\")\n",
    "run_ref_filepath = os.path.join(reference_filepath, \"scanfiles\", sub + \"_run_ref.csv\")\n",
    "run_duration_filepath = os.path.join(reference_filepath, \"scanfiles_derivatives/rundata/video_timing\", subject + \"_task-emp_run-0\" + str(run) + \"_events_other.txt\")\n",
    "\n",
    "# load reference file information\n",
    "run_ref = pd.DataFrame.from_csv(run_ref_filepath)\n",
    "run_duration = pd.DataFrame.from_csv(run_duration_filepath, sep=\"\\t\").reset_index()\n",
    "run_ref = pd.merge(run_ref, run_duration, on='video_number')\n",
    "\n"
   ]
  },
  {
   "cell_type": "code",
   "execution_count": 16,
   "metadata": {
    "collapsed": false
   },
   "outputs": [],
   "source": [
    "# Get data only for relevant epi run\n",
    "\n",
    "run_ref = run_ref[run_ref.run == run]\n",
    "\n",
    "run_ref['video_number'] = run_ref['video_number'].astype(int)\n",
    "\n",
    "#Calculate trs\n",
    "# add three to account for hemodynamic lag\n",
    "run_ref['video_start_tr'] = \\\n",
    "    [round_up_to_even(x)/2 + 3 for x in run_ref['video_start_rts']]\n",
    "\n",
    "run_ref['video_duration_tr'] = run_ref['duration']/2"
   ]
  },
  {
   "cell_type": "code",
   "execution_count": 17,
   "metadata": {
    "collapsed": false
   },
   "outputs": [
    {
     "name": "stdout",
     "output_type": "stream",
     "text": [
      "fslroi           /Users/mdclark/Desktop/ISCAnalysis/data/sub-245/func/sub-245_task-emp_run-02_bold_space-MNI152NLin2009cAsym_preproc.nii.gz          /Users/mdclark/Desktop/ISCAnalysis/data/sub-245/func/video_4.nii.gz          9.0          59.964532763500756\n",
      "fslroi           /Users/mdclark/Desktop/ISCAnalysis/data/sub-245/func/sub-245_task-emp_run-02_bold_space-MNI152NLin2009cAsym_preproc.nii.gz          /Users/mdclark/Desktop/ISCAnalysis/data/sub-245/func/video_9.nii.gz          77.0          43.97303196449865\n",
      "fslroi           /Users/mdclark/Desktop/ISCAnalysis/data/sub-245/func/sub-245_task-emp_run-02_bold_space-MNI152NLin2009cAsym_preproc.nii.gz          /Users/mdclark/Desktop/ISCAnalysis/data/sub-245/func/video_6.nii.gz          129.0          59.7929013565008\n",
      "fslroi           /Users/mdclark/Desktop/ISCAnalysis/data/sub-245/func/sub-245_task-emp_run-02_bold_space-MNI152NLin2009cAsym_preproc.nii.gz          /Users/mdclark/Desktop/ISCAnalysis/data/sub-245/func/video_14.nii.gz          197.0          60.105950922497904\n"
     ]
    }
   ],
   "source": [
    "# Split each epi into four videos\n",
    "for index, video in enumerate(run_ref['video_number'].tolist()): \n",
    "\n",
    "    run_filename = \"sub-\" + sub + \"_task-emp_run-0\" + str(run) + \"_bold_space-MNI152NLin2009cAsym_preproc.nii.gz\"\n",
    "    bold_input_filename = os.path.join(data_filepath, run_filename)\n",
    "\n",
    "    video_filename = (\"video_{video}.nii.gz\").format(video=str(video))\n",
    "    bold_output_filename = os.path.join(data_filepath, video_filename)\n",
    "\n",
    "    start = run_ref.iloc[index]['video_start_tr']\n",
    "    duration = run_ref.iloc[index]['video_duration_tr']\n",
    "\n",
    "    sh_cmd = (\"\"\"fslroi \\\n",
    "          {bold_input_filename}\\\n",
    "          {bold_output_filename}\\\n",
    "          {start}\\\n",
    "          {duration}\"\"\").format(bold_input_filename=bold_input_filename, bold_output_filename=bold_output_filename, start=start, duration=duration)\n",
    "    sh(sh_cmd)\n",
    "    print(sh_cmd)"
   ]
  },
  {
   "cell_type": "code",
   "execution_count": 18,
   "metadata": {
    "collapsed": false
   },
   "outputs": [
    {
     "name": "stdout",
     "output_type": "stream",
     "text": [
      "(68, 80, 68, 256)\n",
      "(68, 80, 68, 59)\n",
      "________________________________________________________________________________\n",
      "[Memory] Calling nilearn.input_data.base_masker.filter_and_extract...\n",
      "filter_and_extract(<nibabel.nifti1.Nifti1Image object at 0x14d013898>, <nilearn.input_data.nifti_spheres_masker._ExtractionFunctor object at 0x14d013e80>, \n",
      "{ 'allow_overlap': False,\n",
      "  'detrend': True,\n",
      "  'high_pass': 0.01,\n",
      "  'low_pass': 0.1,\n",
      "  'mask_img': None,\n",
      "  'radius': 8,\n",
      "  'seeds': [(-56, -4, -10), (56, -4, -10), (28, -96, -6), (-28, -96, -6)],\n",
      "  'smoothing_fwhm': None,\n",
      "  'standardize': True,\n",
      "  't_r': 2}, confounds=None, memory=Memory(cachedir='nilearn_cache/joblib'), memory_level=1, verbose=1)\n",
      "[NiftiSpheresMasker.transform_single_imgs] Loading data from Nifti1Image(\n",
      "shape=(68, 80, 68, 256),\n",
      "affine=array([[   2.9000001,    0.       ,    0.       ,  -96.       ],\n",
      "       [   0.       ,    2.9000001,    0.       , -132.       ],\n",
      "       [   0.       ,    \n",
      "[NiftiSpheresMasker.transform_single_imgs] Extracting region signals\n",
      "[NiftiSpheresMasker.transform_single_imgs] Cleaning extracted signals\n",
      "_______________________________________________filter_and_extract - 3.0s, 0.1min\n"
     ]
    },
    {
     "data": {
      "image/png": "[encoded data removed]",
      "text/plain": [
       "<matplotlib.figure.Figure at 0x120d079b0>"
      ]
     },
     "metadata": {},
     "output_type": "display_data"
    }
   ],
   "source": [
    "#Coded to check that TR onset and offset timing are correct\n",
    "\n",
    "from nilearn import image\n",
    "from nilearn import plotting\n",
    "\n",
    "\n",
    "#Load original and cut data\n",
    "bold_input = image.smooth_img(bold_input_filename, fwhm=3)\n",
    "bold_output= image.smooth_img(bold_output_filename, fwhm=3)\n",
    "\n",
    "print(bold_input.shape)\n",
    "print(bold_output.shape)\n",
    "\n",
    "#Guess auditiory cortex seed\n",
    "aud_coords = [(-56,-4,-10),(56,-4,-10),(28,-96,-6),(-28,-96,-6)]\n",
    "labels = ['Auditory Cortex - L', 'Auditory Cortex - R', 'V1 - L', 'V1 - R']\n",
    "\n",
    "#Make mask of auditory cortex\n",
    "masker = input_data.NiftiSpheresMasker(\n",
    "    aud_coords, radius=8,\n",
    "    detrend=True, standardize=True,\n",
    "    low_pass=0.1, high_pass=0.01, t_r=2,\n",
    "    memory='nilearn_cache', memory_level=1, verbose=1)\n",
    "\n",
    "\n",
    "time_series = masker.fit_transform(bold_input)\n",
    "\n",
    "for time_serie, label in zip(time_series.T, labels):\n",
    "    plt.plot(time_serie, label=label)\n",
    "\n",
    "\n",
    "plt.axvspan(run_ref.iloc[0]['video_start_tr'],run_ref.iloc[0]['video_start_tr'] + run_ref.iloc[0]['video_duration_tr'], alpha =.2)\n",
    "plt.axvspan(run_ref.iloc[1]['video_start_tr'],run_ref.iloc[1]['video_start_tr'] + run_ref.iloc[1]['video_duration_tr'], alpha =.2)\n",
    "plt.axvspan(run_ref.iloc[2]['video_start_tr'],run_ref.iloc[2]['video_start_tr'] + run_ref.iloc[2]['video_duration_tr'], alpha =.2)\n",
    "plt.axvspan(run_ref.iloc[3]['video_start_tr'],run_ref.iloc[3]['video_start_tr'] + run_ref.iloc[3]['video_duration_tr'], alpha =.2)\n",
    "\n",
    "\n",
    "plt.title('Aud Time Series')\n",
    "plt.xlabel('TR number')\n",
    "plt.ylabel('Normalized signal')\n",
    "plt.legend()\n",
    "plt.tight_layout()\n",
    "\n",
    "\n",
    "plt.savefig(data_filepath + \"/run-\" +  str(run) + \".png\")"
   ]
  },
  {
   "cell_type": "code",
   "execution_count": null,
   "metadata": {
    "collapsed": false
   },
   "outputs": [],
   "source": []
  },
  {
   "cell_type": "code",
   "execution_count": null,
   "metadata": {
    "collapsed": true
   },
   "outputs": [],
   "source": []
  },
  {
   "cell_type": "code",
   "execution_count": null,
   "metadata": {
    "collapsed": true
   },
   "outputs": [],
   "source": []
  },
  {
   "cell_type": "code",
   "execution_count": null,
   "metadata": {
    "collapsed": true
   },
   "outputs": [],
   "source": []
  }
 ],
 "metadata": {
  "kernelspec": {
   "display_name": "Python 3",
   "language": "python",
   "name": "python3"
  },
  "language_info": {
   "codemirror_mode": {
    "name": "ipython",
    "version": 3
   },
   "file_extension": ".py",
   "mimetype": "text/x-python",
   "name": "python",
   "nbconvert_exporter": "python",
   "pygments_lexer": "ipython3",
   "version": "3.6.0"
  }
 },
 "nbformat": 4,
 "nbformat_minor": 2
}
