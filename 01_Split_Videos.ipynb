{
 "cells": [
  {
   "cell_type": "markdown",
   "metadata": {},
   "source": [
    "# 01_Split_Videos.ipynb\n",
    "\n",
    "Original code from Carolyn Parkinson & modified for personal use\n",
    "\n",
    "Creates fslroi command to split whole run into individual videos\n",
    "\n",
    "Input: \n",
    "\n",
    "* Run Ref File\n",
    "    \n",
    "    *  /Users/mdclark/Desktop/EmpAcc/data/behavioraldata/scanfiles/239_run_ref.csv\n",
    "    * Contains \"sub_id, trial, video_number, self_other, neg_pos, scan_start, video_start, video_start_rts, run\"\n",
    "   \n",
    "* Run File\n",
    "    \n",
    "Output: \n",
    "   \n",
    "* Video run file"
   ]
  },
  {
   "cell_type": "code",
   "execution_count": 1,
   "metadata": {
    "collapsed": true
   },
   "outputs": [],
   "source": [
    "import os\n",
    "import subprocess\n",
    "import pandas as pd\n",
    "\n",
    "from nilearn import input_data\n",
    "import matplotlib.pyplot as plt\n",
    "\n",
    "import matplotlib.pyplot as plt\n",
    "%matplotlib inline"
   ]
  },
  {
   "cell_type": "code",
   "execution_count": 2,
   "metadata": {
    "collapsed": true
   },
   "outputs": [],
   "source": [
    "# define a function to execute shell commands\n",
    "def sh(c):\n",
    "    '''\n",
    "    run shell commands\n",
    "    '''\n",
    "    subprocess.call(c, shell = True)\n",
    "    \n",
    "import math\n",
    "\n",
    "def round_up_to_even(f):\n",
    "    return math.ceil(f / 2.) * 2"
   ]
  },
  {
   "cell_type": "code",
   "execution_count": 3,
   "metadata": {
    "collapsed": false
   },
   "outputs": [],
   "source": [
    "# get subject data\n",
    "\n",
    "sub = \"289\"\n",
    "run = 1\n",
    "\n",
    "\n",
    "\n",
    "\n",
    "subject = \"sub-\" + sub\n",
    "\n",
    "data_filepath = os.path.join(\"/Users/mdclark/Desktop/ISCAnalysis/data/fmri/ts/nifti/\", subject)\n",
    "run_ref_filepath = \"/Users/mdclark/Desktop/EmpAcc/data/behavioraldata/scanfiles/\" + sub + \"_run_ref.csv\"\n",
    "\n",
    "run_ref = pd.DataFrame.from_csv(run_ref_filepath)\n",
    "\n",
    "\n",
    "\n",
    "#video_start_time = [11, 148, 285, 421]\n",
    "#video_start_tr = [round_up_to_even(x)/2 + 3 - start for x in video_start_time]\n",
    "#video_start_tr\n"
   ]
  },
  {
   "cell_type": "code",
   "execution_count": 22,
   "metadata": {
    "collapsed": false
   },
   "outputs": [],
   "source": [
    "# Get data only for relevant epi run\n",
    "\n",
    "run_ref = run_ref[run_ref.run == run]\n",
    "\n",
    "run_ref['video_number'] = run_ref['video_number'].astype(int)\n",
    "\n",
    "#Calculate trs\n",
    "# add three to account for hemodynamic lag\n",
    "run_ref['video_start_tr'] = \\\n",
    "    [round_up_to_even(x)/2 + 3 for x in run_ref['video_start_rts']]\n",
    "#    [round_up_to_even(x)/2 + 3 for x in run_ref['video_start_rts']]\n"
   ]
  },
  {
   "cell_type": "code",
   "execution_count": 23,
   "metadata": {
    "collapsed": false
   },
   "outputs": [
    {
     "name": "stdout",
     "output_type": "stream",
     "text": [
      "fslroi           /Users/mdclark/Desktop/ISCAnalysis/data/fmri/ts/nifti/sub-289/sub-289_task-emp_run-01_bold.nii          /Users/mdclark/Desktop/ISCAnalysis/data/fmri/ts/nifti/sub-289/video_11.nii.gz          9.0          60\n",
      "fslroi           /Users/mdclark/Desktop/ISCAnalysis/data/fmri/ts/nifti/sub-289/sub-289_task-emp_run-01_bold.nii          /Users/mdclark/Desktop/ISCAnalysis/data/fmri/ts/nifti/sub-289/video_13.nii.gz          78.0          60\n",
      "fslroi           /Users/mdclark/Desktop/ISCAnalysis/data/fmri/ts/nifti/sub-289/sub-289_task-emp_run-01_bold.nii          /Users/mdclark/Desktop/ISCAnalysis/data/fmri/ts/nifti/sub-289/video_3.nii.gz          146.0          60\n",
      "fslroi           /Users/mdclark/Desktop/ISCAnalysis/data/fmri/ts/nifti/sub-289/sub-289_task-emp_run-01_bold.nii          /Users/mdclark/Desktop/ISCAnalysis/data/fmri/ts/nifti/sub-289/video_6.nii.gz          214.0          60\n"
     ]
    }
   ],
   "source": [
    "# Split each epi into four videos\n",
    "for index, video in enumerate(run_ref['video_number'].tolist()): \n",
    "\n",
    "    run_filename = \"sub-289_task-emp_run-01_bold.nii\"\n",
    "    bold_input_filename = os.path.join(data_filepath, run_filename)\n",
    "\n",
    "    video_filename = (\"video_{video}.nii.gz\").format(video=str(video))\n",
    "    bold_output_filename = os.path.join(data_filepath, video_filename)\n",
    "\n",
    "    start = run_ref.iloc[index]['video_start_tr']\n",
    "    duration = 60 #60 trs or 120 seconds\n",
    "\n",
    "    sh_cmd = (\"\"\"fslroi \\\n",
    "          {bold_input_filename}\\\n",
    "          {bold_output_filename}\\\n",
    "          {start}\\\n",
    "          {duration}\"\"\").format(bold_input_filename=bold_input_filename, bold_output_filename=bold_output_filename, start=start, duration=duration)\n",
    "    sh(sh_cmd)\n",
    "    print(sh_cmd)"
   ]
  },
  {
   "cell_type": "code",
   "execution_count": 24,
   "metadata": {
    "collapsed": false
   },
   "outputs": [],
   "source": []
  },
  {
   "cell_type": "code",
   "execution_count": 25,
   "metadata": {
    "collapsed": false
   },
   "outputs": [
    {
     "name": "stdout",
     "output_type": "stream",
     "text": [
      "[9.0, 78.0, 146.0, 214.0]\n",
      "(80, 80, 46, 273)\n",
      "(80, 80, 46, 59)\n"
     ]
    },
    {
     "data": {
      "image/png": "[encoded data removed]",
      "text/plain": [
       "<matplotlib.figure.Figure at 0x115198be0>"
      ]
     },
     "metadata": {},
     "output_type": "display_data"
    }
   ],
   "source": [
    "#Coded to check that TR onset and offset timing are correct\n",
    "\n",
    "\n",
    "from nilearn import image\n",
    "from nilearn import plotting\n",
    "\n",
    "video_start = run_ref['video_start_tr'].tolist()\n",
    "print(video_start)\n",
    "\n",
    "\n",
    "#Load original and cut data\n",
    "bold_input = image.smooth_img(bold_input_filename, fwhm=3)\n",
    "bold_output= image.smooth_img(bold_output_filename, fwhm=3)\n",
    "\n",
    "print(bold_input.shape)\n",
    "print(bold_output.shape)\n",
    "\n",
    "#Guess auditiory cortex seed\n",
    "aud_coords = [(46,1,20),(-60,3,18)]\n",
    "labels = ['Auditory Cortex - L', 'Auditory Cortex - R']\n",
    "\n",
    "#Make mask of auditory cortex\n",
    "masker = input_data.NiftiSpheresMasker(\n",
    "    aud_coords, radius=8,\n",
    "    detrend=True, standardize=True,\n",
    "    low_pass=0.1, high_pass=0.01, t_r=2,\n",
    "    memory='nilearn_cache', memory_level=1, verbose=1)\n",
    "\n",
    "\n",
    "time_series = masker.fit_transform(bold_input)\n",
    "\n",
    "for time_serie, label in zip(time_series.T, labels):\n",
    "    plt.plot(time_serie, label=label)\n",
    "    \n",
    "    \n",
    "plt.axvspan(video_start[0],video_start[0]+60, alpha =.2)\n",
    "plt.axvspan(video_start[1],video_start[1]+60, alpha =.2)\n",
    "plt.axvspan(video_start[2],video_start[2]+60, alpha =.2)\n",
    "plt.axvspan(video_start[3],video_start[3]+60, alpha =.2)\n",
    "\n",
    "plt.title('Aud Time Series')\n",
    "plt.xlabel('TR number')\n",
    "plt.ylabel('Normalized signal')\n",
    "plt.legend()\n",
    "plt.tight_layout()"
   ]
  },
  {
   "cell_type": "code",
   "execution_count": null,
   "metadata": {
    "collapsed": false
   },
   "outputs": [],
   "source": []
  },
  {
   "cell_type": "code",
   "execution_count": null,
   "metadata": {
    "collapsed": false
   },
   "outputs": [],
   "source": []
  },
  {
   "cell_type": "code",
   "execution_count": null,
   "metadata": {
    "collapsed": false
   },
   "outputs": [],
   "source": []
  },
  {
   "cell_type": "code",
   "execution_count": null,
   "metadata": {
    "collapsed": true
   },
   "outputs": [],
   "source": []
  }
 ],
 "metadata": {
  "kernelspec": {
   "display_name": "Python 3",
   "language": "python",
   "name": "python3"
  },
  "language_info": {
   "codemirror_mode": {
    "name": "ipython",
    "version": 3
   },
   "file_extension": ".py",
   "mimetype": "text/x-python",
   "name": "python",
   "nbconvert_exporter": "python",
   "pygments_lexer": "ipython3",
   "version": "3.6.0"
  }
 },
 "nbformat": 4,
 "nbformat_minor": 2
}
