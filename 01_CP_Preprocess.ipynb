{
 "cells": [
  {
   "cell_type": "markdown",
   "metadata": {
    "collapsed": false
   },
   "source": [
    "12/26/2017  carolyn.parkinson@gmail.com\n",
    "\n",
    "This script creates and executes AFNI scripts to preprocess time series data\n",
    "for a list of subjects. It takes as input:\n",
    "\n",
    "    1) A list of subject names to iterate through (here, 'subjects.json')\n",
    "    2) Nifti or AFNI files for each functional run for each subject\n",
    "    3) Each subject's high-resolution anatomical scan\n",
    "    4) Each subject's anatomical segmentation file ('aseg'), which was created\n",
    "    with Freesurfer's recon-all command and converted to AFNI format with the\n",
    "    AFNI command @SUMA_Make_Spec_FS.\n",
    "\n",
    "    In preprocessing, the aseg file is used to obtain anatomical masks of the\n",
    "    ventricles and white matter to generate global and local nuisance regressors.\n",
    "    See relevant AFNI documentation for further details on how these are defined,\n",
    "    and on the various options that are specified (but feel free to ask me\n",
    "    if anything is unclear!):\n",
    "    https://afni.nimh.nih.gov/pub/dist/doc/program_help/afni_restproc.py.html"
   ]
  },
  {
   "cell_type": "code",
   "execution_count": 2,
   "metadata": {
    "collapsed": true
   },
   "outputs": [],
   "source": [
    "#!/usr/bin/env python\n",
    "\n",
    "# import relevant python modules\n",
    "import os\n",
    "import shutil\n",
    "import subprocess\n",
    "import json\n",
    "import glob\n"
   ]
  },
  {
   "cell_type": "code",
   "execution_count": 3,
   "metadata": {
    "collapsed": true
   },
   "outputs": [],
   "source": [
    "mypath = ('/Users/mdclark/Desktop/ISCAnalysis/data/fmri/ts')"
   ]
  },
  {
   "cell_type": "code",
   "execution_count": 4,
   "metadata": {
    "collapsed": true
   },
   "outputs": [],
   "source": [
    "subj_list = [\"sub-289\"]"
   ]
  },
  {
   "cell_type": "code",
   "execution_count": 5,
   "metadata": {
    "collapsed": true
   },
   "outputs": [],
   "source": [
    "# define a function to execute shell commands\n",
    "def sh(c):\n",
    "    '''\n",
    "    run shell commands\n",
    "    '''\n",
    "    subprocess.call(c, shell = True)\n"
   ]
  },
  {
   "cell_type": "code",
   "execution_count": 24,
   "metadata": {
    "collapsed": false
   },
   "outputs": [
    {
     "name": "stdout",
     "output_type": "stream",
     "text": [
      "afni_restproc.py               -anat /Users/mdclark/Desktop/ISCAnalysis/data/fmri/ts/nifti/sub-289/sub-289_SurfVol.nii               -epi /Users/mdclark/Desktop/ISCAnalysis/data/fmri/ts/nifti/sub-289/video_8.nii               -prefix epi8_preprocessed               -script epi8_rest_proc_script.tcsh               -epi2anat               -uniformize               -anat_has_skull yes               -aseg /Users/mdclark/Desktop/ISCAnalysis/data/fmri/ts/nifti/sub-289/aseg.nii               -dreg               -trcut 2                -localnorm               -smoothfirst               -smoothrad 4               -polort 3               -despike on\n",
      "afni_restproc.py               -anat /Users/mdclark/Desktop/ISCAnalysis/data/fmri/ts/nifti/sub-289/sub-289_SurfVol.nii               -epi /Users/mdclark/Desktop/ISCAnalysis/data/fmri/ts/nifti/sub-289/video_9.nii               -prefix epi9_preprocessed               -script epi9_rest_proc_script.tcsh               -epi2anat               -uniformize               -anat_has_skull yes               -aseg /Users/mdclark/Desktop/ISCAnalysis/data/fmri/ts/nifti/sub-289/aseg.nii               -dreg               -trcut 2                -localnorm               -smoothfirst               -smoothrad 4               -polort 3               -despike on\n",
      "afni_restproc.py               -anat /Users/mdclark/Desktop/ISCAnalysis/data/fmri/ts/nifti/sub-289/sub-289_SurfVol.nii               -epi /Users/mdclark/Desktop/ISCAnalysis/data/fmri/ts/nifti/sub-289/video_1.nii               -prefix epi1_preprocessed               -script epi1_rest_proc_script.tcsh               -epi2anat               -uniformize               -anat_has_skull yes               -aseg /Users/mdclark/Desktop/ISCAnalysis/data/fmri/ts/nifti/sub-289/aseg.nii               -dreg               -trcut 2                -localnorm               -smoothfirst               -smoothrad 4               -polort 3               -despike on\n",
      "afni_restproc.py               -anat /Users/mdclark/Desktop/ISCAnalysis/data/fmri/ts/nifti/sub-289/sub-289_SurfVol.nii               -epi /Users/mdclark/Desktop/ISCAnalysis/data/fmri/ts/nifti/sub-289/video_2.nii               -prefix epi2_preprocessed               -script epi2_rest_proc_script.tcsh               -epi2anat               -uniformize               -anat_has_skull yes               -aseg /Users/mdclark/Desktop/ISCAnalysis/data/fmri/ts/nifti/sub-289/aseg.nii               -dreg               -trcut 2                -localnorm               -smoothfirst               -smoothrad 4               -polort 3               -despike on\n",
      "afni_restproc.py               -anat /Users/mdclark/Desktop/ISCAnalysis/data/fmri/ts/nifti/sub-289/sub-289_SurfVol.nii               -epi /Users/mdclark/Desktop/ISCAnalysis/data/fmri/ts/nifti/sub-289/video_3.nii               -prefix epi3_preprocessed               -script epi3_rest_proc_script.tcsh               -epi2anat               -uniformize               -anat_has_skull yes               -aseg /Users/mdclark/Desktop/ISCAnalysis/data/fmri/ts/nifti/sub-289/aseg.nii               -dreg               -trcut 2                -localnorm               -smoothfirst               -smoothrad 4               -polort 3               -despike on\n",
      "afni_restproc.py               -anat /Users/mdclark/Desktop/ISCAnalysis/data/fmri/ts/nifti/sub-289/sub-289_SurfVol.nii               -epi /Users/mdclark/Desktop/ISCAnalysis/data/fmri/ts/nifti/sub-289/video_4.nii               -prefix epi4_preprocessed               -script epi4_rest_proc_script.tcsh               -epi2anat               -uniformize               -anat_has_skull yes               -aseg /Users/mdclark/Desktop/ISCAnalysis/data/fmri/ts/nifti/sub-289/aseg.nii               -dreg               -trcut 2                -localnorm               -smoothfirst               -smoothrad 4               -polort 3               -despike on\n",
      "afni_restproc.py               -anat /Users/mdclark/Desktop/ISCAnalysis/data/fmri/ts/nifti/sub-289/sub-289_SurfVol.nii               -epi /Users/mdclark/Desktop/ISCAnalysis/data/fmri/ts/nifti/sub-289/video_5.nii               -prefix epi5_preprocessed               -script epi5_rest_proc_script.tcsh               -epi2anat               -uniformize               -anat_has_skull yes               -aseg /Users/mdclark/Desktop/ISCAnalysis/data/fmri/ts/nifti/sub-289/aseg.nii               -dreg               -trcut 2                -localnorm               -smoothfirst               -smoothrad 4               -polort 3               -despike on\n",
      "afni_restproc.py               -anat /Users/mdclark/Desktop/ISCAnalysis/data/fmri/ts/nifti/sub-289/sub-289_SurfVol.nii               -epi /Users/mdclark/Desktop/ISCAnalysis/data/fmri/ts/nifti/sub-289/video_6.nii               -prefix epi6_preprocessed               -script epi6_rest_proc_script.tcsh               -epi2anat               -uniformize               -anat_has_skull yes               -aseg /Users/mdclark/Desktop/ISCAnalysis/data/fmri/ts/nifti/sub-289/aseg.nii               -dreg               -trcut 2                -localnorm               -smoothfirst               -smoothrad 4               -polort 3               -despike on\n",
      "afni_restproc.py               -anat /Users/mdclark/Desktop/ISCAnalysis/data/fmri/ts/nifti/sub-289/sub-289_SurfVol.nii               -epi /Users/mdclark/Desktop/ISCAnalysis/data/fmri/ts/nifti/sub-289/video_7.nii               -prefix epi7_preprocessed               -script epi7_rest_proc_script.tcsh               -epi2anat               -uniformize               -anat_has_skull yes               -aseg /Users/mdclark/Desktop/ISCAnalysis/data/fmri/ts/nifti/sub-289/aseg.nii               -dreg               -trcut 2                -localnorm               -smoothfirst               -smoothrad 4               -polort 3               -despike on\n",
      "afni_restproc.py               -anat /Users/mdclark/Desktop/ISCAnalysis/data/fmri/ts/nifti/sub-289/sub-289_SurfVol.nii               -epi /Users/mdclark/Desktop/ISCAnalysis/data/fmri/ts/nifti/sub-289/video_10.nii               -prefix epi10_preprocessed               -script epi10_rest_proc_script.tcsh               -epi2anat               -uniformize               -anat_has_skull yes               -aseg /Users/mdclark/Desktop/ISCAnalysis/data/fmri/ts/nifti/sub-289/aseg.nii               -dreg               -trcut 2                -localnorm               -smoothfirst               -smoothrad 4               -polort 3               -despike on\n"
     ]
    }
   ],
   "source": [
    "for subject in subj_list:\n",
    "\n",
    "    # specify and enter directory containing this subject's nifti files\n",
    "    nifti_dir = \"{}/nifti/{}\".format(mypath, subject)\n",
    "    os.chdir(nifti_dir)\n",
    "  \n",
    "    # specify relevant anatomical files for this subject\n",
    "        # I think that aseg_Alnd_Exp+orig is the aseg file in the original 3D space (not aligned to MNI)\n",
    "        #hires = \"{}/{}_SurfVol_Alnd_Exp+orig\".format(nifti_dir, subject)\n",
    "        #aseg = \"{}/aseg_Alnd_Exp+orig\".format(nifti_dir)\n",
    "        \n",
    "    hires = \"{}/{}_SurfVol\".format(nifti_dir, subject)\n",
    "    aseg = \"{}/aseg\".format(nifti_dir)\n",
    "    \n",
    "    # create a dictionary of EPI files, where the keys are run titles ('epi1',\n",
    "    # 'epi2,', etc.), and the values are run file names.\n",
    "    my_epis = {}\n",
    "    #tr_nums = [204, 276, 194, 147, 189, 108, 160]\n",
    "    videos = [1, 2, 3, 4, 5, 6, 7, 8, 9, 10]\n",
    "    for epi_num, num_trs in enumerate(videos, start=1):\n",
    "        my_epis['epi{}'.format(epi_num)] = glob.glob('{}/*video_{}*'.format(nifti_dir, num_trs))[0]\n",
    "        \n",
    "    for epi_name, epi_file in my_epis.items():\n",
    "        sh_cmd1 = (\"\"\"afni_restproc.py \\\n",
    "              -anat {hires}.nii \\\n",
    "              -epi {epi} \\\n",
    "              -prefix {epiname}_preprocessed \\\n",
    "              -script {epiname}_rest_proc_script.tcsh \\\n",
    "              -epi2anat \\\n",
    "              -uniformize \\\n",
    "              -anat_has_skull yes \\\n",
    "              -aseg {aseg}.nii \\\n",
    "              -dreg \\\n",
    "              -trcut 2  \\\n",
    "              -localnorm \\\n",
    "              -smoothfirst \\\n",
    "              -smoothrad 4 \\\n",
    "              -polort 3 \\\n",
    "              -despike on\"\"\").format(hires = hires, epi = epi_file, epiname = epi_name, aseg = aseg)\n",
    "        print(sh_cmd1)"
   ]
  },
  {
   "cell_type": "code",
   "execution_count": 22,
   "metadata": {
    "collapsed": false
   },
   "outputs": [
    {
     "name": "stdout",
     "output_type": "stream",
     "text": [
      "afni_restproc.py               -anat /Users/mdclark/Desktop/ISCAnalysis/data/fmri/ts/nifti/sub-289/sub-289_SurfVol.nii               -epi /Users/mdclark/Desktop/ISCAnalysis/data/fmri/ts/nifti/sub-289/video_3.nii               -prefix epi3_preprocessed               -script epi3_rest_proc_script.tcsh               -epi2anat               -uniformize               -anat_has_skull yes               -aseg /Users/mdclark/Desktop/ISCAnalysis/data/fmri/ts/nifti/sub-289/aseg.nii               -dreg               -trcut 2                -localnorm               -smoothfirst               -smoothrad 4               -polort 3               -despike on\n"
     ]
    }
   ],
   "source": [
    "print(sh_cmd1)"
   ]
  },
  {
   "cell_type": "code",
   "execution_count": 17,
   "metadata": {
    "collapsed": true
   },
   "outputs": [],
   "source": [
    "sh('source activate python27')"
   ]
  },
  {
   "cell_type": "code",
   "execution_count": null,
   "metadata": {
    "collapsed": true
   },
   "outputs": [],
   "source": []
  }
 ],
 "metadata": {
  "kernelspec": {
   "display_name": "Python 2",
   "language": "python",
   "name": "python2"
  },
  "language_info": {
   "codemirror_mode": {
    "name": "ipython",
    "version": 2
   },
   "file_extension": ".py",
   "mimetype": "text/x-python",
   "name": "python",
   "nbconvert_exporter": "python",
   "pygments_lexer": "ipython2",
   "version": "2.7.13"
  }
 },
 "nbformat": 4,
 "nbformat_minor": 2
}
