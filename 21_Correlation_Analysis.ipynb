{
 "cells": [
  {
   "cell_type": "code",
   "execution_count": 1,
   "metadata": {
    "collapsed": false
   },
   "outputs": [
    {
     "name": "stdout",
     "output_type": "stream",
     "text": [
      "0.3.5\n"
     ]
    }
   ],
   "source": [
    "import nltools\n",
    "from nltools.data import Brain_Data, Adjacency\n",
    "from nltools.mask import expand_mask\n",
    "from sklearn.metrics import pairwise_distances\n",
    "import matplotlib.pyplot as plt\n",
    "import seaborn as sns\n",
    "import numpy as np\n",
    "import pandas as pd\n",
    "import scipy\n",
    "from sklearn.utils import shuffle\n",
    "\n",
    "    \n",
    "import os\n",
    "\n",
    "% matplotlib inline\n",
    "\n",
    "print(nltools.__version__)"
   ]
  },
  {
   "cell_type": "code",
   "execution_count": 7,
   "metadata": {
    "collapsed": true
   },
   "outputs": [],
   "source": [
    "## Set up Folders\n",
    "\n",
    "folder_path = \".\"\n",
    "\n",
    "## Set up Mask\n",
    "\n",
    "mask = 'dDMN.nii.gz'\n",
    "mask_region = \"dDMN\"\n",
    "mask_path = os.path.join(folder_path, 'masked_csv', mask_region)\n",
    "\n",
    "subjects = [ '145', '157', '168', '184', '200', '214',  '219', '220', '222', '223', '229', '245', '253', '257', '263',  '267', '270', '277']\n",
    "num_subs = len(subjects)"
   ]
  },
  {
   "cell_type": "code",
   "execution_count": 3,
   "metadata": {
    "collapsed": false
   },
   "outputs": [
    {
     "data": {
      "application/javascript": [
       "IPython.OutputArea.prototype._should_scroll = function(lines) {\n",
       "    return false;\n",
       "}"
      ],
      "text/plain": [
       "<IPython.core.display.Javascript object>"
      ]
     },
     "metadata": {},
     "output_type": "display_data"
    }
   ],
   "source": [
    "%%javascript\n",
    "IPython.OutputArea.prototype._should_scroll = function(lines) {\n",
    "    return false;\n",
    "}"
   ]
  },
  {
   "cell_type": "code",
   "execution_count": null,
   "metadata": {
    "collapsed": false
   },
   "outputs": [],
   "source": []
  },
  {
   "cell_type": "code",
   "execution_count": 5,
   "metadata": {
    "collapsed": false
   },
   "outputs": [],
   "source": [
    "\n",
    "express = pd.read_csv('./data/videoInfo.csv')\n",
    "\n",
    "express\n"
   ]
  },
  {
   "cell_type": "code",
   "execution_count": 124,
   "metadata": {
    "collapsed": false
   },
   "outputs": [
    {
     "ename": "FileNotFoundError",
     "evalue": "File b'/Volumes/AdditionalStorage/ISC_Analysis/masked_csv/Auditory/video_4_behavioralcorrelations.csv' does not exist",
     "output_type": "error",
     "traceback": [
      "\u001b[0;31m---------------------------------------------------------------------------\u001b[0m",
      "\u001b[0;31mFileNotFoundError\u001b[0m                         Traceback (most recent call last)",
      "\u001b[0;32m<ipython-input-124-6a46f7126822>\u001b[0m in \u001b[0;36m<module>\u001b[0;34m()\u001b[0m\n\u001b[1;32m      6\u001b[0m \u001b[0;34m\u001b[0m\u001b[0m\n\u001b[1;32m      7\u001b[0m \u001b[0;34m\u001b[0m\u001b[0m\n\u001b[0;32m----> 8\u001b[0;31m     \u001b[0mbehavioral\u001b[0m \u001b[0;34m=\u001b[0m \u001b[0mpd\u001b[0m\u001b[0;34m.\u001b[0m\u001b[0mread_csv\u001b[0m\u001b[0;34m(\u001b[0m\u001b[0mmask_path\u001b[0m \u001b[0;34m+\u001b[0m \u001b[0;34m\"/video_\"\u001b[0m \u001b[0;34m+\u001b[0m \u001b[0mstr\u001b[0m\u001b[0;34m(\u001b[0m\u001b[0mvideo\u001b[0m\u001b[0;34m)\u001b[0m \u001b[0;34m+\u001b[0m \u001b[0;34m'_behavioralcorrelations.csv'\u001b[0m\u001b[0;34m,\u001b[0m \u001b[0mindex_col\u001b[0m\u001b[0;34m=\u001b[0m\u001b[0;34m'Unnamed: 0'\u001b[0m\u001b[0;34m)\u001b[0m\u001b[0;34m\u001b[0m\u001b[0m\n\u001b[0m\u001b[1;32m      9\u001b[0m     \u001b[0mbehavioral\u001b[0m \u001b[0;34m=\u001b[0m \u001b[0mbehavioral\u001b[0m\u001b[0;34m.\u001b[0m\u001b[0mmask\u001b[0m\u001b[0;34m(\u001b[0m\u001b[0mnp\u001b[0m\u001b[0;34m.\u001b[0m\u001b[0mtril\u001b[0m\u001b[0;34m(\u001b[0m\u001b[0mnp\u001b[0m\u001b[0;34m.\u001b[0m\u001b[0mones\u001b[0m\u001b[0;34m(\u001b[0m\u001b[0mbehavioral\u001b[0m\u001b[0;34m.\u001b[0m\u001b[0mshape\u001b[0m\u001b[0;34m)\u001b[0m\u001b[0;34m)\u001b[0m\u001b[0;34m.\u001b[0m\u001b[0mastype\u001b[0m\u001b[0;34m(\u001b[0m\u001b[0mnp\u001b[0m\u001b[0;34m.\u001b[0m\u001b[0mbool\u001b[0m\u001b[0;34m)\u001b[0m\u001b[0;34m)\u001b[0m\u001b[0;34m\u001b[0m\u001b[0m\n\u001b[1;32m     10\u001b[0m     \u001b[0mbehavioral\u001b[0m \u001b[0;34m=\u001b[0m \u001b[0mbehavioral\u001b[0m\u001b[0;34m.\u001b[0m\u001b[0mstack\u001b[0m\u001b[0;34m(\u001b[0m\u001b[0;34m)\u001b[0m\u001b[0;34m.\u001b[0m\u001b[0mreset_index\u001b[0m\u001b[0;34m(\u001b[0m\u001b[0;34m)\u001b[0m\u001b[0;34m[\u001b[0m\u001b[0;36m0\u001b[0m\u001b[0;34m]\u001b[0m\u001b[0;34m\u001b[0m\u001b[0m\n",
      "\u001b[0;32m/Users/mdclark/anaconda3/lib/python3.6/site-packages/pandas/io/parsers.py\u001b[0m in \u001b[0;36mparser_f\u001b[0;34m(filepath_or_buffer, sep, delimiter, header, names, index_col, usecols, squeeze, prefix, mangle_dupe_cols, dtype, engine, converters, true_values, false_values, skipinitialspace, skiprows, nrows, na_values, keep_default_na, na_filter, verbose, skip_blank_lines, parse_dates, infer_datetime_format, keep_date_col, date_parser, dayfirst, iterator, chunksize, compression, thousands, decimal, lineterminator, quotechar, quoting, escapechar, comment, encoding, dialect, tupleize_cols, error_bad_lines, warn_bad_lines, skipfooter, doublequote, delim_whitespace, low_memory, memory_map, float_precision)\u001b[0m\n\u001b[1;32m    676\u001b[0m                     skip_blank_lines=skip_blank_lines)\n\u001b[1;32m    677\u001b[0m \u001b[0;34m\u001b[0m\u001b[0m\n\u001b[0;32m--> 678\u001b[0;31m         \u001b[0;32mreturn\u001b[0m \u001b[0m_read\u001b[0m\u001b[0;34m(\u001b[0m\u001b[0mfilepath_or_buffer\u001b[0m\u001b[0;34m,\u001b[0m \u001b[0mkwds\u001b[0m\u001b[0;34m)\u001b[0m\u001b[0;34m\u001b[0m\u001b[0m\n\u001b[0m\u001b[1;32m    679\u001b[0m \u001b[0;34m\u001b[0m\u001b[0m\n\u001b[1;32m    680\u001b[0m     \u001b[0mparser_f\u001b[0m\u001b[0;34m.\u001b[0m\u001b[0m__name__\u001b[0m \u001b[0;34m=\u001b[0m \u001b[0mname\u001b[0m\u001b[0;34m\u001b[0m\u001b[0m\n",
      "\u001b[0;32m/Users/mdclark/anaconda3/lib/python3.6/site-packages/pandas/io/parsers.py\u001b[0m in \u001b[0;36m_read\u001b[0;34m(filepath_or_buffer, kwds)\u001b[0m\n\u001b[1;32m    438\u001b[0m \u001b[0;34m\u001b[0m\u001b[0m\n\u001b[1;32m    439\u001b[0m     \u001b[0;31m# Create the parser.\u001b[0m\u001b[0;34m\u001b[0m\u001b[0;34m\u001b[0m\u001b[0m\n\u001b[0;32m--> 440\u001b[0;31m     \u001b[0mparser\u001b[0m \u001b[0;34m=\u001b[0m \u001b[0mTextFileReader\u001b[0m\u001b[0;34m(\u001b[0m\u001b[0mfilepath_or_buffer\u001b[0m\u001b[0;34m,\u001b[0m \u001b[0;34m**\u001b[0m\u001b[0mkwds\u001b[0m\u001b[0;34m)\u001b[0m\u001b[0;34m\u001b[0m\u001b[0m\n\u001b[0m\u001b[1;32m    441\u001b[0m \u001b[0;34m\u001b[0m\u001b[0m\n\u001b[1;32m    442\u001b[0m     \u001b[0;32mif\u001b[0m \u001b[0mchunksize\u001b[0m \u001b[0;32mor\u001b[0m \u001b[0miterator\u001b[0m\u001b[0;34m:\u001b[0m\u001b[0;34m\u001b[0m\u001b[0m\n",
      "\u001b[0;32m/Users/mdclark/anaconda3/lib/python3.6/site-packages/pandas/io/parsers.py\u001b[0m in \u001b[0;36m__init__\u001b[0;34m(self, f, engine, **kwds)\u001b[0m\n\u001b[1;32m    785\u001b[0m             \u001b[0mself\u001b[0m\u001b[0;34m.\u001b[0m\u001b[0moptions\u001b[0m\u001b[0;34m[\u001b[0m\u001b[0;34m'has_index_names'\u001b[0m\u001b[0;34m]\u001b[0m \u001b[0;34m=\u001b[0m \u001b[0mkwds\u001b[0m\u001b[0;34m[\u001b[0m\u001b[0;34m'has_index_names'\u001b[0m\u001b[0;34m]\u001b[0m\u001b[0;34m\u001b[0m\u001b[0m\n\u001b[1;32m    786\u001b[0m \u001b[0;34m\u001b[0m\u001b[0m\n\u001b[0;32m--> 787\u001b[0;31m         \u001b[0mself\u001b[0m\u001b[0;34m.\u001b[0m\u001b[0m_make_engine\u001b[0m\u001b[0;34m(\u001b[0m\u001b[0mself\u001b[0m\u001b[0;34m.\u001b[0m\u001b[0mengine\u001b[0m\u001b[0;34m)\u001b[0m\u001b[0;34m\u001b[0m\u001b[0m\n\u001b[0m\u001b[1;32m    788\u001b[0m \u001b[0;34m\u001b[0m\u001b[0m\n\u001b[1;32m    789\u001b[0m     \u001b[0;32mdef\u001b[0m \u001b[0mclose\u001b[0m\u001b[0;34m(\u001b[0m\u001b[0mself\u001b[0m\u001b[0;34m)\u001b[0m\u001b[0;34m:\u001b[0m\u001b[0;34m\u001b[0m\u001b[0m\n",
      "\u001b[0;32m/Users/mdclark/anaconda3/lib/python3.6/site-packages/pandas/io/parsers.py\u001b[0m in \u001b[0;36m_make_engine\u001b[0;34m(self, engine)\u001b[0m\n\u001b[1;32m   1012\u001b[0m     \u001b[0;32mdef\u001b[0m \u001b[0m_make_engine\u001b[0m\u001b[0;34m(\u001b[0m\u001b[0mself\u001b[0m\u001b[0;34m,\u001b[0m \u001b[0mengine\u001b[0m\u001b[0;34m=\u001b[0m\u001b[0;34m'c'\u001b[0m\u001b[0;34m)\u001b[0m\u001b[0;34m:\u001b[0m\u001b[0;34m\u001b[0m\u001b[0m\n\u001b[1;32m   1013\u001b[0m         \u001b[0;32mif\u001b[0m \u001b[0mengine\u001b[0m \u001b[0;34m==\u001b[0m \u001b[0;34m'c'\u001b[0m\u001b[0;34m:\u001b[0m\u001b[0;34m\u001b[0m\u001b[0m\n\u001b[0;32m-> 1014\u001b[0;31m             \u001b[0mself\u001b[0m\u001b[0;34m.\u001b[0m\u001b[0m_engine\u001b[0m \u001b[0;34m=\u001b[0m \u001b[0mCParserWrapper\u001b[0m\u001b[0;34m(\u001b[0m\u001b[0mself\u001b[0m\u001b[0;34m.\u001b[0m\u001b[0mf\u001b[0m\u001b[0;34m,\u001b[0m \u001b[0;34m**\u001b[0m\u001b[0mself\u001b[0m\u001b[0;34m.\u001b[0m\u001b[0moptions\u001b[0m\u001b[0;34m)\u001b[0m\u001b[0;34m\u001b[0m\u001b[0m\n\u001b[0m\u001b[1;32m   1015\u001b[0m         \u001b[0;32melse\u001b[0m\u001b[0;34m:\u001b[0m\u001b[0;34m\u001b[0m\u001b[0m\n\u001b[1;32m   1016\u001b[0m             \u001b[0;32mif\u001b[0m \u001b[0mengine\u001b[0m \u001b[0;34m==\u001b[0m \u001b[0;34m'python'\u001b[0m\u001b[0;34m:\u001b[0m\u001b[0;34m\u001b[0m\u001b[0m\n",
      "\u001b[0;32m/Users/mdclark/anaconda3/lib/python3.6/site-packages/pandas/io/parsers.py\u001b[0m in \u001b[0;36m__init__\u001b[0;34m(self, src, **kwds)\u001b[0m\n\u001b[1;32m   1706\u001b[0m         \u001b[0mkwds\u001b[0m\u001b[0;34m[\u001b[0m\u001b[0;34m'usecols'\u001b[0m\u001b[0;34m]\u001b[0m \u001b[0;34m=\u001b[0m \u001b[0mself\u001b[0m\u001b[0;34m.\u001b[0m\u001b[0musecols\u001b[0m\u001b[0;34m\u001b[0m\u001b[0m\n\u001b[1;32m   1707\u001b[0m \u001b[0;34m\u001b[0m\u001b[0m\n\u001b[0;32m-> 1708\u001b[0;31m         \u001b[0mself\u001b[0m\u001b[0;34m.\u001b[0m\u001b[0m_reader\u001b[0m \u001b[0;34m=\u001b[0m \u001b[0mparsers\u001b[0m\u001b[0;34m.\u001b[0m\u001b[0mTextReader\u001b[0m\u001b[0;34m(\u001b[0m\u001b[0msrc\u001b[0m\u001b[0;34m,\u001b[0m \u001b[0;34m**\u001b[0m\u001b[0mkwds\u001b[0m\u001b[0;34m)\u001b[0m\u001b[0;34m\u001b[0m\u001b[0m\n\u001b[0m\u001b[1;32m   1709\u001b[0m \u001b[0;34m\u001b[0m\u001b[0m\n\u001b[1;32m   1710\u001b[0m         \u001b[0mpassed_names\u001b[0m \u001b[0;34m=\u001b[0m \u001b[0mself\u001b[0m\u001b[0;34m.\u001b[0m\u001b[0mnames\u001b[0m \u001b[0;32mis\u001b[0m \u001b[0;32mNone\u001b[0m\u001b[0;34m\u001b[0m\u001b[0m\n",
      "\u001b[0;32mpandas/_libs/parsers.pyx\u001b[0m in \u001b[0;36mpandas._libs.parsers.TextReader.__cinit__\u001b[0;34m()\u001b[0m\n",
      "\u001b[0;32mpandas/_libs/parsers.pyx\u001b[0m in \u001b[0;36mpandas._libs.parsers.TextReader._setup_parser_source\u001b[0;34m()\u001b[0m\n",
      "\u001b[0;31mFileNotFoundError\u001b[0m: File b'/Volumes/AdditionalStorage/ISC_Analysis/masked_csv/Auditory/video_4_behavioralcorrelations.csv' does not exist"
     ]
    }
   ],
   "source": [
    "##Pairwise by Pairwise\n",
    "\n",
    "## Set up Video and Participants\n",
    "\n",
    "for video in range(4,6):\n",
    "\n",
    "    \n",
    "    ## Behavioral Correlations\n",
    "    behavioral = pd.read_csv(mask_path + \"/video_\" + str(video) + '_behavioralcorrelations.csv', index_col='Unnamed: 0')\n",
    "    behavioral = behavioral.mask(np.tril(np.ones(behavioral.shape)).astype(np.bool))\n",
    "    behavioral = behavioral.stack().reset_index()[0]\n",
    "    #behavioral = shuffle(behavioral).reset_index()[0]\n",
    "\n",
    "    ## Scan Correlations\n",
    "    fMRI = pd.read_csv(mask_path + \"/video_\" + str(video) + '_fMRIcorrelations.csv',index_col='Unnamed: 0')\n",
    "    fMRI = fMRI.mask(np.tril(np.ones(fMRI.shape)).astype(np.bool))\n",
    "    #fMRI = fMRI.stack().reset_index()[0]\n",
    "\n",
    "    ## Expressivity\n",
    "    express = pd.read_csv('./data/videoInfo.csv')\n",
    "    \n",
    "    \n",
    "    #Concatenate Data Frame\n",
    "    corrs = pd.concat([behavioral, fMRI], axis=1)\n",
    "    corrs.columns = ['behav', 'scan']\n",
    "\n",
    "    # Fischer Z transform correlations\n",
    "    corrs['z_behav'] = 0.5*np.log((1+corrs['behav'])/(1-corrs['behav']))\n",
    "    corrs['z_behav'] = pd.to_numeric(corrs['z_behav'], errors='coerce')\n",
    "\n",
    "    corrs['z_scan'] = 0.5*np.log((1+corrs['scan'])/(1-corrs['scan']))\n",
    "    corrs['z_scan'] = pd.to_numeric(corrs['z_scan'], errors='coerce')\n",
    "    corrs = corrs.replace([np.inf, -np.inf], np.nan)\n",
    "\n",
    "    # Compute Correlation\n",
    "    corrs=corrs.dropna()\n",
    "    corr_values = scipy.stats.pearsonr(corrs['z_behav'], corrs['z_scan'])\n",
    "\n",
    "    actual = actual.append([corr_values[0]])\n",
    "    #null = null.append([corr_values[0]])\n",
    "\n",
    "    #Plot\n",
    "    plt.figure()\n",
    "    scat1 = sns.regplot(x=\"z_behav\", y =\"z_scan\", data=corrs)\n",
    "\n",
    "    plt.title(f'Video {video}  |  Corr: {corr_values[0]: .3f}  |  P: {corr_values[1]: .3f}')\n",
    "    plt.xlabel('Behavioral Coefficients')\n",
    "    plt.ylabel('Scan Coefficients')\n",
    "\n",
    "\n",
    "\n",
    "%matplotlib inline\n",
    "import numpy as np\n",
    "import matplotlib.pyplot as plt\n",
    "plt.style.use('seaborn-white')\n",
    "\n",
    "kwargs = dict(histtype='stepfilled', alpha=0.3, normed=True, bins=80);\n",
    "\n",
    "plt.hist(null, **kwargs);\n",
    "plt.hist(actual, **kwargs);\n",
    "\n",
    "\n",
    "\n"
   ]
  },
  {
   "cell_type": "code",
   "execution_count": 42,
   "metadata": {
    "collapsed": false
   },
   "outputs": [
    {
     "name": "stdout",
     "output_type": "stream",
     "text": [
      "    videoNumber                 VideoName rateSelfOther  \\\n",
      "0             1       N_112_expulsion.mp4          Self   \n",
      "1             2     N_116_friendbreak.mp4          Self   \n",
      "2             3             N_117_acl.mp4          Self   \n",
      "3             4         N_118_bigmove.mp4          Self   \n",
      "4             5         N_125_kickout.mp4         Other   \n",
      "5             6     N_128_middlechild.mp4         Other   \n",
      "6             7      N_133_depression.mp4         Other   \n",
      "7             8        N_137_eviction.mp4         Other   \n",
      "8             9        P_121_abroad-2.mp4          Self   \n",
      "9            10      P_141_nacamiento.mp4          Self   \n",
      "10           11            P_156_jckf.mp4          Self   \n",
      "11           12             P_161_dog.mp4          Self   \n",
      "12           13       P_164_happyhike.mp4         Other   \n",
      "13           14  P_165_studentcouncil.mp4         Other   \n",
      "\n",
      "   valencePositiveNegative       BEQ  expressivity  video   z_behav    z_scan  \n",
      "0                 Negative  5.444444     10.444444      1  1.404023  0.123637  \n",
      "1                 Negative  4.916667      9.666667      2  1.181572  0.045018  \n",
      "2                 Negative  3.527778      3.527778      3  0.268558  0.069324  \n",
      "3                 Negative  4.916667      8.416667      4  0.606103  0.270021  \n",
      "4                 Negative       NaN           NaN      5  1.190475  0.241000  \n",
      "5                 Negative  5.027778     10.027778      6  1.429796  0.008260  \n",
      "6                 Negative       NaN           NaN      7  0.667637  0.100468  \n",
      "7                 Negative  5.944444     11.694444      8  0.642107  0.056406  \n",
      "8                 Positive  5.472222      9.472222      9  0.555368  0.013656  \n",
      "9                 Positive  2.916667      2.916667     10  0.488805 -0.018519  \n",
      "10                Positive  4.611111      8.861111     11  0.902060  0.010615  \n",
      "11                Positive  3.694444      8.944444     12  0.479951 -0.016828  \n",
      "12                Positive  3.222222      9.722222     13  0.785834 -0.015158  \n",
      "13                Positive  4.666667      9.416667     14  0.931368  0.036852  \n"
     ]
    }
   ],
   "source": [
    "## Average\n",
    "video_summary = pd.DataFrame()\n",
    "\n",
    "for video in range(1,15):\n",
    "\n",
    "    ## Behavioral Average\n",
    "    behavioral = pd.read_csv(mask_path + \"/video_\" + str(video) + '_behavioralcorrelations.csv', index_col='Unnamed: 0')\n",
    "    behavioral = behavioral.mask(np.tril(np.ones(behavioral.shape)).astype(np.bool))\n",
    "    behavioral = behavioral.stack().reset_index()[0]\n",
    "\n",
    "    ## fMRI Average\n",
    "    fMRI = pd.read_csv(mask_path + \"/video_\" + str(video) + '_fMRIcorrelations.csv',index_col='Unnamed: 0')\n",
    "    fMRI = fMRI.mask(np.tril(np.ones(fMRI.shape)).astype(np.bool))\n",
    "    fMRI = fMRI.stack().reset_index()[0]\n",
    "\n",
    "    #Concatenate Data Frame\n",
    "    corrs = pd.concat([behavioral, fMRI], axis=1)\n",
    "    corrs.columns = ['behav', 'scan']\n",
    "\n",
    "    # Fischer Z transform correlations\n",
    "    corrs['z_behav'] = 0.5*np.log((1+corrs['behav'])/(1-corrs['behav']))\n",
    "    corrs['z_behav'] = pd.to_numeric(corrs['z_behav'], errors='coerce')\n",
    "\n",
    "    corrs['z_scan'] = 0.5*np.log((1+corrs['scan'])/(1-corrs['scan']))\n",
    "    corrs['z_scan'] = pd.to_numeric(corrs['z_scan'], errors='coerce')\n",
    "\n",
    "    video_summary = video_summary.append([[video, corrs['z_behav'].mean(), corrs['z_scan'].mean()]])\n",
    "    \n",
    "video_summary.columns = ['video', 'z_behav', 'z_scan']\n",
    "\n",
    "## Expressivity\n",
    "express = pd.read_csv('./data/videoInfo.csv')\n",
    "express = express.merge(video_summary, how='inner', left_on = 'videoNumber', right_on='video')\n",
    "print(express)"
   ]
  },
  {
   "cell_type": "code",
   "execution_count": 28,
   "metadata": {
    "collapsed": false
   },
   "outputs": [
    {
     "data": {
      "image/png": "[encoded data removed]",
      "text/plain": [
       "<matplotlib.figure.Figure at 0x11b498390>"
      ]
     },
     "metadata": {},
     "output_type": "display_data"
    }
   ],
   "source": [
    "  #Plot\n",
    "\n",
    "plt.figure()\n",
    "scat1 = sns.regplot(x='expressivity', y ='z_behav', data=express)\n",
    "\n",
    "# plt.title(f'Video {video}  |  Corr: {corr_values[0]: .3f}  |  P: {corr_values[1]: .3f}')\n",
    "# plt.xlabel('Behavioral Coefficients')\n",
    "# plt.ylabel('Scan Coefficients')\n",
    "\n",
    "\n"
   ]
  },
  {
   "cell_type": "code",
   "execution_count": 45,
   "metadata": {
    "collapsed": false
   },
   "outputs": [
    {
     "data": {
      "text/plain": [
       "(0.57172813331892924, 0.052118749231522765)"
      ]
     },
     "execution_count": 45,
     "metadata": {},
     "output_type": "execute_result"
    }
   ],
   "source": [
    "express = express.dropna(axis=0)\n",
    "scipy.stats.pearsonr(express['expressivity'], express['z_behav'])\n"
   ]
  },
  {
   "cell_type": "code",
   "execution_count": null,
   "metadata": {
    "collapsed": true
   },
   "outputs": [],
   "source": []
  }
 ],
 "metadata": {
  "kernelspec": {
   "display_name": "Python 3",
   "language": "python",
   "name": "python3"
  },
  "language_info": {
   "codemirror_mode": {
    "name": "ipython",
    "version": 3
   },
   "file_extension": ".py",
   "mimetype": "text/x-python",
   "name": "python",
   "nbconvert_exporter": "python",
   "pygments_lexer": "ipython3",
   "version": "3.6.0"
  }
 },
 "nbformat": 4,
 "nbformat_minor": 2
}
