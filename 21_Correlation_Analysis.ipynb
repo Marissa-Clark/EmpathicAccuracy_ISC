{
 "cells": [
  {
   "cell_type": "code",
   "execution_count": 1,
   "metadata": {
    "collapsed": false
   },
   "outputs": [
    {
     "name": "stdout",
     "output_type": "stream",
     "text": [
      "0.3.5\n"
     ]
    }
   ],
   "source": [
    "import nltools\n",
    "from nltools.data import Brain_Data, Adjacency\n",
    "from nltools.mask import expand_mask\n",
    "from sklearn.metrics import pairwise_distances\n",
    "import matplotlib.pyplot as plt\n",
    "import seaborn as sns\n",
    "import numpy as np\n",
    "import pandas as pd\n",
    "import scipy\n",
    "from sklearn.utils import shuffle\n",
    "\n",
    "    \n",
    "import os\n",
    "\n",
    "% matplotlib inline\n",
    "\n",
    "print(nltools.__version__)"
   ]
  },
  {
   "cell_type": "code",
   "execution_count": 2,
   "metadata": {
    "collapsed": true
   },
   "outputs": [],
   "source": [
    "## Set up Folders\n",
    "\n",
    "folder_path = \".\"\n",
    "\n",
    "## Set up Mask\n",
    "\n",
    "mask = 'a1_rev.nii'\n",
    "mask_region = \"a1_rev\"\n",
    "mask_path = os.path.join(folder_path, 'masked_csv', mask_region)\n",
    "\n",
    "subjects = [ '145', '157', '168', '184', '200', '214',  '219', '220', '222', '223', '229', '245', '253', '257', '263',  '267', '270', '277']\n",
    "num_subs = len(subjects)"
   ]
  },
  {
   "cell_type": "code",
   "execution_count": 3,
   "metadata": {
    "collapsed": false
   },
   "outputs": [
    {
     "data": {
      "application/javascript": [
       "IPython.OutputArea.prototype._should_scroll = function(lines) {\n",
       "    return false;\n",
       "}"
      ],
      "text/plain": [
       "<IPython.core.display.Javascript object>"
      ]
     },
     "metadata": {},
     "output_type": "display_data"
    }
   ],
   "source": [
    "%%javascript\n",
    "IPython.OutputArea.prototype._should_scroll = function(lines) {\n",
    "    return false;\n",
    "}"
   ]
  },
  {
   "cell_type": "code",
   "execution_count": null,
   "metadata": {
    "collapsed": false
   },
   "outputs": [],
   "source": []
  },
  {
   "cell_type": "code",
   "execution_count": null,
   "metadata": {
    "collapsed": false
   },
   "outputs": [],
   "source": []
  },
  {
   "cell_type": "code",
   "execution_count": 4,
   "metadata": {
    "collapsed": false
   },
   "outputs": [],
   "source": [
    "# ##Pairwise by Pairwise\n",
    "\n",
    "# ## Set up Video and Participants\n",
    "\n",
    "# for video in range(4,6):\n",
    "\n",
    "    \n",
    "#     ## Behavioral Correlations\n",
    "#     behavioral = pd.read_csv(mask_path + \"/video_\" + str(video) + '_behavioralcorrelations.csv', index_col='Unnamed: 0')\n",
    "#     behavioral = behavioral.mask(np.tril(np.ones(behavioral.shape)).astype(np.bool))\n",
    "#     behavioral = behavioral.stack().reset_index()[0]\n",
    "#     #behavioral = shuffle(behavioral).reset_index()[0]\n",
    "\n",
    "#     ## Scan Correlations\n",
    "#     fMRI = pd.read_csv(mask_path + \"/video_\" + str(video) + '_fMRIcorrelations.csv',index_col='Unnamed: 0')\n",
    "#     fMRI = fMRI.mask(np.tril(np.ones(fMRI.shape)).astype(np.bool))\n",
    "#     #fMRI = fMRI.stack().reset_index()[0]\n",
    "\n",
    "#     ## Expressivity\n",
    "#     express = pd.read_csv('./data/videoInfo.csv')\n",
    "    \n",
    "    \n",
    "#     #Concatenate Data Frame\n",
    "#     corrs = pd.concat([behavioral, fMRI], axis=1)\n",
    "#     corrs.columns = ['behav', 'scan']\n",
    "\n",
    "#     # Fischer Z transform correlations\n",
    "#     corrs['z_behav'] = 0.5*np.log((1+corrs['behav'])/(1-corrs['behav']))\n",
    "#     corrs['z_behav'] = pd.to_numeric(corrs['z_behav'], errors='coerce')\n",
    "\n",
    "#     corrs['z_scan'] = 0.5*np.log((1+corrs['scan'])/(1-corrs['scan']))\n",
    "#     corrs['z_scan'] = pd.to_numeric(corrs['z_scan'], errors='coerce')\n",
    "#     corrs = corrs.replace([np.inf, -np.inf], np.nan)\n",
    "\n",
    "#     # Compute Correlation\n",
    "#     corrs=corrs.dropna()\n",
    "#     corr_values = scipy.stats.pearsonr(corrs['z_behav'], corrs['z_scan'])\n",
    "\n",
    "#     actual = actual.append([corr_values[0]])\n",
    "#     #null = null.append([corr_values[0]])\n",
    "\n",
    "#     #Plot\n",
    "#     plt.figure()\n",
    "#     scat1 = sns.regplot(x=\"z_behav\", y =\"z_scan\", data=corrs)\n",
    "\n",
    "#     plt.title(f'Video {video}  |  Corr: {corr_values[0]: .3f}  |  P: {corr_values[1]: .3f}')\n",
    "#     plt.xlabel('Behavioral Coefficients')\n",
    "#     plt.ylabel('Scan Coefficients')\n",
    "\n",
    "\n",
    "\n",
    "# %matplotlib inline\n",
    "# import numpy as np\n",
    "# import matplotlib.pyplot as plt\n",
    "# plt.style.use('seaborn-white')\n",
    "\n",
    "# kwargs = dict(histtype='stepfilled', alpha=0.3, normed=True, bins=80);\n",
    "\n",
    "# plt.hist(null, **kwargs);\n",
    "# plt.hist(actual, **kwargs);\n",
    "\n",
    "\n",
    "\n"
   ]
  },
  {
   "cell_type": "code",
   "execution_count": 5,
   "metadata": {
    "collapsed": false
   },
   "outputs": [
    {
     "name": "stdout",
     "output_type": "stream",
     "text": [
      "a1_rev.nii\n",
      "    videoNumber                 VideoName rateSelfOther  \\\n",
      "0             1       N_112_expulsion.mp4          Self   \n",
      "1             2     N_116_friendbreak.mp4          Self   \n",
      "2             3             N_117_acl.mp4          Self   \n",
      "3             4         N_118_bigmove.mp4          Self   \n",
      "4             5         N_125_kickout.mp4         Other   \n",
      "5             6     N_128_middlechild.mp4         Other   \n",
      "6             7      N_133_depression.mp4         Other   \n",
      "7             8        N_137_eviction.mp4         Other   \n",
      "8             9        P_121_abroad-2.mp4          Self   \n",
      "9            10      P_141_nacamiento.mp4          Self   \n",
      "10           11            P_156_jckf.mp4          Self   \n",
      "11           12             P_161_dog.mp4          Self   \n",
      "12           13       P_164_happyhike.mp4         Other   \n",
      "13           14  P_165_studentcouncil.mp4         Other   \n",
      "14           15        P_169_Stanford.mp4         Other   \n",
      "15           16      P_171_sistermath.mp4         Other   \n",
      "\n",
      "   valencePositiveNegative       BEQ  expressivity  video   z_behav    z_scan  \n",
      "0                 Negative  5.444444     10.444444      1  1.404023  0.210118  \n",
      "1                 Negative  4.916667      9.666667      2  1.181572  0.381216  \n",
      "2                 Negative  3.527778      3.527778      3  0.268558  0.405815  \n",
      "3                 Negative  4.916667      8.416667      4  0.606103  0.498379  \n",
      "4                 Negative       NaN           NaN      5  1.190475  0.558725  \n",
      "5                 Negative  5.027778     10.027778      6  1.429796  0.302383  \n",
      "6                 Negative       NaN           NaN      7  0.667637  0.354095  \n",
      "7                 Negative  5.944444     11.694444      8  0.642107  0.748355  \n",
      "8                 Positive  5.472222      9.472222      9  0.555368  0.250791  \n",
      "9                 Positive  2.916667      2.916667     10  0.488805  0.413256  \n",
      "10                Positive  4.611111      8.861111     11  0.902060  0.141630  \n",
      "11                Positive  3.694444      8.944444     12  0.479951  0.205825  \n",
      "12                Positive  3.222222      9.722222     13  0.785834  0.242151  \n",
      "13                Positive  4.666667      9.416667     14  0.931368  0.777522  \n",
      "14                Positive  5.888889      7.888889     15  0.884810  0.410701  \n",
      "15                Positive  4.777778      9.527778     16  0.933209  0.242588  \n"
     ]
    }
   ],
   "source": [
    "## Average\n",
    "video_summary = pd.DataFrame()\n",
    "print(mask)\n",
    "\n",
    "for video in range(1,17):\n",
    "\n",
    "    ## Behavioral Average\n",
    "    behavioral = pd.read_csv(mask_path + \"/video_\" + str(video) + '_behavioralcorrelations.csv', index_col='Unnamed: 0')\n",
    "    behavioral = behavioral.mask(np.tril(np.ones(behavioral.shape)).astype(np.bool))\n",
    "    behavioral = behavioral.stack().reset_index()[0]\n",
    "\n",
    "    ## fMRI Average\n",
    "    fMRI = pd.read_csv(mask_path + \"/video_\" + str(video) + '_fMRIcorrelations.csv',index_col='Unnamed: 0')\n",
    "    fMRI = fMRI.mask(np.tril(np.ones(fMRI.shape)).astype(np.bool))\n",
    "    fMRI = fMRI.stack().reset_index()[0]\n",
    "\n",
    "    #Concatenate Data Frame\n",
    "    corrs = pd.concat([behavioral, fMRI], axis=1)\n",
    "    corrs.columns = ['behav', 'scan']\n",
    "\n",
    "    # Fischer Z transform correlations\n",
    "    corrs['z_behav'] = 0.5*np.log((1+corrs['behav'])/(1-corrs['behav']))\n",
    "    corrs['z_behav'] = pd.to_numeric(corrs['z_behav'], errors='coerce')\n",
    "\n",
    "    corrs['z_scan'] = 0.5*np.log((1+corrs['scan'])/(1-corrs['scan']))\n",
    "    corrs['z_scan'] = pd.to_numeric(corrs['z_scan'], errors='coerce')\n",
    "\n",
    "    video_summary = video_summary.append([[video, corrs['z_behav'].mean(), corrs['z_scan'].mean()]])\n",
    "    \n",
    "video_summary.columns = ['video', 'z_behav', 'z_scan']\n",
    "\n",
    "## Expressivity\n",
    "express = pd.read_csv('./data/videoInfo.csv')\n",
    "express = express.merge(video_summary, how='inner', left_on = 'videoNumber', right_on='video')\n",
    "print(express)"
   ]
  },
  {
   "cell_type": "code",
   "execution_count": 6,
   "metadata": {
    "collapsed": false
   },
   "outputs": [
    {
     "data": {
      "text/plain": [
       "<matplotlib.text.Text at 0x11f691400>"
      ]
     },
     "execution_count": 6,
     "metadata": {},
     "output_type": "execute_result"
    },
    {
     "data": {
      "image/png": "[encoded data removed]",
      "text/plain": [
       "<matplotlib.figure.Figure at 0x11ea54748>"
      ]
     },
     "metadata": {},
     "output_type": "display_data"
    }
   ],
   "source": [
    "  #Plot\n",
    "express = express.dropna(axis=0)\n",
    "\n",
    "corr_values = scipy.stats.pearsonr(express['BEQ'], express['z_scan'])\n",
    "\n",
    "plt.figure()\n",
    "scat1 = sns.regplot(x='BEQ', y ='z_scan', data=express)\n",
    "\n",
    "plt.title(f' Berkeley Expressitvity Questionnaire and Average vDMN ISC \\n R: {corr_values[0]: .3f}  |  P: {corr_values[1]: .3f}')\n",
    "plt.xlabel('BEQ')\n",
    "plt.ylabel('Average ISC between subjects')\n",
    "\n",
    "\n"
   ]
  },
  {
   "cell_type": "code",
   "execution_count": 7,
   "metadata": {
    "collapsed": false
   },
   "outputs": [
    {
     "data": {
      "text/plain": [
       "(0.22759807639437096, 0.43389048962642129)"
      ]
     },
     "execution_count": 7,
     "metadata": {},
     "output_type": "execute_result"
    }
   ],
   "source": [
    "scipy.stats.pearsonr(express['BEQ'], express['z_scan'])\n"
   ]
  },
  {
   "cell_type": "code",
   "execution_count": 8,
   "metadata": {
    "collapsed": false
   },
   "outputs": [
    {
     "data": {
      "text/plain": [
       "(0.2846351788182583, 0.323977594441723)"
      ]
     },
     "execution_count": 8,
     "metadata": {},
     "output_type": "execute_result"
    }
   ],
   "source": [
    "(0.28463517881825828, 0.32397759444172303)"
   ]
  }
 ],
 "metadata": {
  "kernelspec": {
   "display_name": "Python 3",
   "language": "python",
   "name": "python3"
  },
  "language_info": {
   "codemirror_mode": {
    "name": "ipython",
    "version": 3
   },
   "file_extension": ".py",
   "mimetype": "text/x-python",
   "name": "python",
   "nbconvert_exporter": "python",
   "pygments_lexer": "ipython3",
   "version": "3.6.0"
  }
 },
 "nbformat": 4,
 "nbformat_minor": 2
}
