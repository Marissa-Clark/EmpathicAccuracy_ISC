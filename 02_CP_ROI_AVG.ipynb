{
 "cells": [
  {
   "cell_type": "markdown",
   "metadata": {},
   "source": [
    "# !!No Longer Used for Analysis!!"
   ]
  },
  {
   "cell_type": "code",
   "execution_count": 1,
   "metadata": {
    "collapsed": true
   },
   "outputs": [],
   "source": [
    "#!/usr/bin/env python\n",
    "\n",
    "\"\"\"\n",
    "12/26/2017  carolyn.parkinson@gmail.com\n",
    "\n",
    "After preprocessing, this script does the following for each subject:\n",
    "    1) Merges the preprocessed time series data across the 6 runs\n",
    "    2) Extracts this average preprocessed time series from each anatomical ROI\n",
    "    3) Saves the average preprocessed time series for each ROI in a dictionary\n",
    "    where the keys are the ROI labels and the values are the corresponding time\n",
    "    series.\n",
    "\"\"\"\n",
    "\n",
    "# import relevant python modules\n",
    "import os\n",
    "import shutil\n",
    "import subprocess\n",
    "import json\n",
    "import glob\n",
    "import csv\n",
    "import numpy as np"
   ]
  },
  {
   "cell_type": "code",
   "execution_count": 2,
   "metadata": {
    "collapsed": true
   },
   "outputs": [],
   "source": [
    "# set path to directory containing data for all subjects\n",
    "mypath = ('/Users/mdclark/Desktop/ISCAnalysis/data/fmri/ts')\n",
    "\n",
    "# read in the list of subjects in the study whose data we'll be preprocesssing\n",
    "#list_file = '{}/subjects.json'.format(mypath)\n",
    "#with open(list_file) as data_file:\n",
    "#    subj_list = json.load(data_file)\n",
    "\n",
    "subj_list = [\"sub-289\"]\n",
    "# define a function to execute shell commands\n",
    "def sh(c):\n",
    "    '''\n",
    "    run shell commands\n",
    "    '''\n",
    "    subprocess.call(c, shell = True)\n",
    "    #print(c)\n",
    "\n",
    "# define a function to write dictionaries to files with json encoding\n",
    "def ld_writeDicts(filePath,dict):\n",
    "    f = open(filePath,'w')\n",
    "    newData = json.dumps(dict, sort_keys = True, indent = 4)\n",
    "    f.write(newData)\n",
    "    f.close()\n"
   ]
  },
  {
   "cell_type": "code",
   "execution_count": 3,
   "metadata": {
    "collapsed": false
   },
   "outputs": [
    {
     "name": "stdout",
     "output_type": "stream",
     "text": [
      "/Users/mdclark/Desktop/ISCAnalysis/data/fmri/ts\n",
      "sub-289\n"
     ]
    }
   ],
   "source": [
    "#for subject in subj_list:\n",
    "subject = \"sub-289\"\n",
    "\n",
    "print(mypath)\n",
    "print(subject)\n",
    "# specify and enter directory containing this subject's nifti files\n",
    "nifti_dir = \"{}/nifti/{}\".format(mypath, subject)\n",
    "os.chdir(nifti_dir)\n",
    "\n",
    "# also specify directory containing their SUMA files\n",
    "suma_dir = \"{}/{}/SUMA\".format(mypath, subject)\n",
    "\n",
    "# copy each run of preprocessed data into the subject's main nifti directory\n",
    "epi_fnames = {}\n",
    "for epi_num in range(1,7):\n",
    "    # specify the prefix for the preprocessed file names for this run; this is\n",
    "    # also the name of the AFNI-generated sub-directory containing these files\n",
    "    epi_prefix = 'epi{}_preprocessed'.format(epi_num)\n",
    "    # specify file name of preprocessed data within that sub-directory\n",
    "    epi_fname = '{}.cleanEPI+orig'.format(epi_prefix)\n",
    "    # create a dictionary where  keys are the run names ('epi1', 'epi2', etc.)\n",
    "    # and values are the corresponding full file names (to iterate through later)\n",
    "    epi_fnames['epi{}'.format(epi_num)] = epi_fname\n",
    "    # specify and execute an AFNI command to copy these files\n",
    "    cp_cmd = '3dcopy {}/{}/{} {}/{}.cleanEPI'.format(nifti_dir, epi_prefix, epi_fname, nifti_dir, epi_prefix)\n",
    "    sh(cp_cmd)\n",
    "\n",
    "# specify what the file of concatenated data should be called\n",
    "all_epi = \"{}_epi_all_preprocessed\".format(subject)\n",
    "# specify and execute an AFNI command to concatenate all runs' preprocessed data\n",
    "tcat_cmd = (\"3dTcat -session {} -prefix {} \"\n",
    "            \"{epi1} {epi2} {epi3} {epi4} {epi5} {epi6}\").format(nifti_dir, all_epi,  **epi_fnames)\n",
    "sh(tcat_cmd)\n",
    "\n",
    "\n",
    "\n",
    "\n"
   ]
  },
  {
   "cell_type": "code",
   "execution_count": null,
   "metadata": {
    "collapsed": true
   },
   "outputs": [],
   "source": []
  },
  {
   "cell_type": "code",
   "execution_count": null,
   "metadata": {
    "collapsed": true
   },
   "outputs": [],
   "source": []
  },
  {
   "cell_type": "code",
   "execution_count": 4,
   "metadata": {
    "collapsed": true
   },
   "outputs": [],
   "source": [
    "# Clean up directory a bit\n",
    "# delete redundant copies of preprocessed data for each run\n",
    "for num, fname in epi_fnames.iteritems():\n",
    "    rm_cmd = 'rm {}/{}*'.format(nifti_dir, fname)\n",
    "    sh(rm_cmd)\n",
    "\n",
    "# also move raw epi data into its own directory\n",
    "raw_epi_dir = '{}/raw_epi_data'.format(nifti_dir)\n",
    "if not os.path.exists(raw_epi_dir):\n",
    "    os.makedirs(raw_epi_dir) # create this directory if it doesn't exist already\n",
    "mv_cmd = 'mv {}/{}_fMRI_* {}'.format(nifti_dir, subject, raw_epi_dir)\n",
    "sh(mv_cmd)"
   ]
  },
  {
   "cell_type": "code",
   "execution_count": 12,
   "metadata": {
    "collapsed": true
   },
   "outputs": [],
   "source": [
    "    # specify table of ROI labels from Freesurfer cortical parcellation\n",
    "    lookup_table = \"{}/aparc+aseg_rank.niml.lt\".format(suma_dir)\n",
    "\n",
    "    # create a dictionary to fill that matches ROI numbers to labels\n",
    "    roi_dict = {}\n",
    "\n",
    "    with open(lookup_table) as csvfile:\n",
    "        # skip first 4 lines (header)\n",
    "        next(csvfile)\n",
    "        next(csvfile)\n",
    "        next(csvfile)\n",
    "        next(csvfile)\n",
    "        reader = csv.DictReader(csvfile, delimiter = \" \", fieldnames = [\"roi_num\", \"roi_label\"])\n",
    "        for row in reader:\n",
    "            roi_dict[row['roi_num']] = row['roi_label']\n",
    "\n",
    "    # save as text file with json encoding\n",
    "    ld_writeDicts('{}_roi_dict_dk_atlas.json'.format(subject), roi_dict)\n",
    "\n",
    "    # Now get masks of cortical areas from Freesurfer parcellation so that we can\n",
    "    # extract the average time series from each mask.\n",
    "\n",
    "    # Get the total number of ROIs in this subject's parcellation file; this is\n",
    "    # 1 less than the length of the lookup table due to the file footer. The\n",
    "    # length of different subjects' lookup tables may vary a bit, as some\n",
    "    # subjects have a 5th ventricle in the FreeSurfer subcortical segmentation;\n",
    "    # see http://surfer.nmr.mgh.harvard.edu/fswiki/SubcorticalSegmentation/\n",
    "    all_roi_num = range(1, (len(roi_dict)-1))\n",
    "\n",
    "    # get Freesurfer parcellation file that's been aligned to our anatomical scan\n",
    "    #aparc = \"{}/aparc+aseg_rank_Alnd_Exp\".format(nifti_dir)\n",
    "    aparc = \"{}/aseg\".format(nifti_dir)\n",
    "\n",
    "\n",
    "    # resample parcellation file to functional resolution\n",
    "    resamp_cmd = (\"3dresample -master {} -rmode NN \"\n",
    "                  \"-input {} -prefix {}_3mm\").format(all_epi, aparc, aparc)\n",
    "    sh(resamp_cmd)\n"
   ]
  },
  {
   "cell_type": "code",
   "execution_count": 10,
   "metadata": {
    "collapsed": false
   },
   "outputs": [
    {
     "name": "stdout",
     "output_type": "stream",
     "text": [
      "3dmaskave -quiet -mask /Users/mdclark/Desktop/ISCAnalysis/data/fmri/ts/nifti/sub-289/aseg_3mm+orig\"<1..1>\" sub-289_epi_all_preprocessed+orig > avg_Left-Cerebral-White-Matter.1D\n",
      "3dmaskave -quiet -mask /Users/mdclark/Desktop/ISCAnalysis/data/fmri/ts/nifti/sub-289/aseg_3mm+orig\"<2..2>\" sub-289_epi_all_preprocessed+orig > avg_Left-Lateral-Ventricle.1D\n",
      "3dmaskave -quiet -mask /Users/mdclark/Desktop/ISCAnalysis/data/fmri/ts/nifti/sub-289/aseg_3mm+orig\"<3..3>\" sub-289_epi_all_preprocessed+orig > avg_Left-Inf-Lat-Vent.1D\n",
      "3dmaskave -quiet -mask /Users/mdclark/Desktop/ISCAnalysis/data/fmri/ts/nifti/sub-289/aseg_3mm+orig\"<4..4>\" sub-289_epi_all_preprocessed+orig > avg_Left-Cerebellum-White-Matter.1D\n",
      "3dmaskave -quiet -mask /Users/mdclark/Desktop/ISCAnalysis/data/fmri/ts/nifti/sub-289/aseg_3mm+orig\"<5..5>\" sub-289_epi_all_preprocessed+orig > avg_Left-Cerebellum-Cortex.1D\n"
     ]
    },
    {
     "name": "stderr",
     "output_type": "stream",
     "text": [
      "/Users/mdclark/anaconda3/envs/python27/lib/python2.7/site-packages/ipykernel_launcher.py:18: UserWarning: loadtxt: Empty input file: \"avg_Left-Cerebral-White-Matter.1D\"\n",
      "/Users/mdclark/anaconda3/envs/python27/lib/python2.7/site-packages/ipykernel_launcher.py:18: UserWarning: loadtxt: Empty input file: \"avg_Left-Lateral-Ventricle.1D\"\n",
      "/Users/mdclark/anaconda3/envs/python27/lib/python2.7/site-packages/ipykernel_launcher.py:18: UserWarning: loadtxt: Empty input file: \"avg_Left-Inf-Lat-Vent.1D\"\n",
      "/Users/mdclark/anaconda3/envs/python27/lib/python2.7/site-packages/ipykernel_launcher.py:18: UserWarning: loadtxt: Empty input file: \"avg_Left-Cerebellum-White-Matter.1D\"\n",
      "/Users/mdclark/anaconda3/envs/python27/lib/python2.7/site-packages/ipykernel_launcher.py:18: UserWarning: loadtxt: Empty input file: \"avg_Left-Cerebellum-Cortex.1D\"\n"
     ]
    },
    {
     "name": "stdout",
     "output_type": "stream",
     "text": [
      "3dmaskave -quiet -mask /Users/mdclark/Desktop/ISCAnalysis/data/fmri/ts/nifti/sub-289/aseg_3mm+orig\"<6..6>\" sub-289_epi_all_preprocessed+orig > avg_Left-Thalamus-Proper.1D\n",
      "3dmaskave -quiet -mask /Users/mdclark/Desktop/ISCAnalysis/data/fmri/ts/nifti/sub-289/aseg_3mm+orig\"<7..7>\" sub-289_epi_all_preprocessed+orig > avg_Left-Caudate.1D\n",
      "3dmaskave -quiet -mask /Users/mdclark/Desktop/ISCAnalysis/data/fmri/ts/nifti/sub-289/aseg_3mm+orig\"<8..8>\" sub-289_epi_all_preprocessed+orig > avg_Left-Putamen.1D\n",
      "3dmaskave -quiet -mask /Users/mdclark/Desktop/ISCAnalysis/data/fmri/ts/nifti/sub-289/aseg_3mm+orig\"<9..9>\" sub-289_epi_all_preprocessed+orig > avg_Left-Pallidum.1D\n",
      "3dmaskave -quiet -mask /Users/mdclark/Desktop/ISCAnalysis/data/fmri/ts/nifti/sub-289/aseg_3mm+orig\"<10..10>\" sub-289_epi_all_preprocessed+orig > avg_3rd-Ventricle.1D\n"
     ]
    },
    {
     "name": "stderr",
     "output_type": "stream",
     "text": [
      "/Users/mdclark/anaconda3/envs/python27/lib/python2.7/site-packages/ipykernel_launcher.py:18: UserWarning: loadtxt: Empty input file: \"avg_Left-Thalamus-Proper.1D\"\n",
      "/Users/mdclark/anaconda3/envs/python27/lib/python2.7/site-packages/ipykernel_launcher.py:18: UserWarning: loadtxt: Empty input file: \"avg_Left-Caudate.1D\"\n",
      "/Users/mdclark/anaconda3/envs/python27/lib/python2.7/site-packages/ipykernel_launcher.py:18: UserWarning: loadtxt: Empty input file: \"avg_Left-Putamen.1D\"\n",
      "/Users/mdclark/anaconda3/envs/python27/lib/python2.7/site-packages/ipykernel_launcher.py:18: UserWarning: loadtxt: Empty input file: \"avg_Left-Pallidum.1D\"\n",
      "/Users/mdclark/anaconda3/envs/python27/lib/python2.7/site-packages/ipykernel_launcher.py:18: UserWarning: loadtxt: Empty input file: \"avg_3rd-Ventricle.1D\"\n"
     ]
    },
    {
     "name": "stdout",
     "output_type": "stream",
     "text": [
      "3dmaskave -quiet -mask /Users/mdclark/Desktop/ISCAnalysis/data/fmri/ts/nifti/sub-289/aseg_3mm+orig\"<11..11>\" sub-289_epi_all_preprocessed+orig > avg_4th-Ventricle.1D\n",
      "3dmaskave -quiet -mask /Users/mdclark/Desktop/ISCAnalysis/data/fmri/ts/nifti/sub-289/aseg_3mm+orig\"<12..12>\" sub-289_epi_all_preprocessed+orig > avg_Brain-Stem.1D\n",
      "3dmaskave -quiet -mask /Users/mdclark/Desktop/ISCAnalysis/data/fmri/ts/nifti/sub-289/aseg_3mm+orig\"<13..13>\" sub-289_epi_all_preprocessed+orig > avg_Left-Hippocampus.1D\n",
      "3dmaskave -quiet -mask /Users/mdclark/Desktop/ISCAnalysis/data/fmri/ts/nifti/sub-289/aseg_3mm+orig\"<14..14>\" sub-289_epi_all_preprocessed+orig > avg_Left-Amygdala.1D\n",
      "3dmaskave -quiet -mask /Users/mdclark/Desktop/ISCAnalysis/data/fmri/ts/nifti/sub-289/aseg_3mm+orig\"<15..15>\" sub-289_epi_all_preprocessed+orig > avg_CSF.1D\n"
     ]
    },
    {
     "name": "stderr",
     "output_type": "stream",
     "text": [
      "/Users/mdclark/anaconda3/envs/python27/lib/python2.7/site-packages/ipykernel_launcher.py:18: UserWarning: loadtxt: Empty input file: \"avg_4th-Ventricle.1D\"\n",
      "/Users/mdclark/anaconda3/envs/python27/lib/python2.7/site-packages/ipykernel_launcher.py:18: UserWarning: loadtxt: Empty input file: \"avg_Brain-Stem.1D\"\n",
      "/Users/mdclark/anaconda3/envs/python27/lib/python2.7/site-packages/ipykernel_launcher.py:18: UserWarning: loadtxt: Empty input file: \"avg_Left-Hippocampus.1D\"\n",
      "/Users/mdclark/anaconda3/envs/python27/lib/python2.7/site-packages/ipykernel_launcher.py:18: UserWarning: loadtxt: Empty input file: \"avg_Left-Amygdala.1D\"\n",
      "/Users/mdclark/anaconda3/envs/python27/lib/python2.7/site-packages/ipykernel_launcher.py:18: UserWarning: loadtxt: Empty input file: \"avg_CSF.1D\"\n"
     ]
    },
    {
     "name": "stdout",
     "output_type": "stream",
     "text": [
      "3dmaskave -quiet -mask /Users/mdclark/Desktop/ISCAnalysis/data/fmri/ts/nifti/sub-289/aseg_3mm+orig\"<16..16>\" sub-289_epi_all_preprocessed+orig > avg_Left-Accumbens-area.1D\n",
      "3dmaskave -quiet -mask /Users/mdclark/Desktop/ISCAnalysis/data/fmri/ts/nifti/sub-289/aseg_3mm+orig\"<17..17>\" sub-289_epi_all_preprocessed+orig > avg_Left-VentralDC.1D\n",
      "3dmaskave -quiet -mask /Users/mdclark/Desktop/ISCAnalysis/data/fmri/ts/nifti/sub-289/aseg_3mm+orig\"<18..18>\" sub-289_epi_all_preprocessed+orig > avg_Left-vessel.1D\n",
      "3dmaskave -quiet -mask /Users/mdclark/Desktop/ISCAnalysis/data/fmri/ts/nifti/sub-289/aseg_3mm+orig\"<19..19>\" sub-289_epi_all_preprocessed+orig > avg_Left-choroid-plexus.1D\n",
      "3dmaskave -quiet -mask /Users/mdclark/Desktop/ISCAnalysis/data/fmri/ts/nifti/sub-289/aseg_3mm+orig\"<20..20>\" sub-289_epi_all_preprocessed+orig > avg_Right-Cerebral-White-Matter.1D\n"
     ]
    },
    {
     "name": "stderr",
     "output_type": "stream",
     "text": [
      "/Users/mdclark/anaconda3/envs/python27/lib/python2.7/site-packages/ipykernel_launcher.py:18: UserWarning: loadtxt: Empty input file: \"avg_Left-Accumbens-area.1D\"\n",
      "/Users/mdclark/anaconda3/envs/python27/lib/python2.7/site-packages/ipykernel_launcher.py:18: UserWarning: loadtxt: Empty input file: \"avg_Left-VentralDC.1D\"\n",
      "/Users/mdclark/anaconda3/envs/python27/lib/python2.7/site-packages/ipykernel_launcher.py:18: UserWarning: loadtxt: Empty input file: \"avg_Left-vessel.1D\"\n",
      "/Users/mdclark/anaconda3/envs/python27/lib/python2.7/site-packages/ipykernel_launcher.py:18: UserWarning: loadtxt: Empty input file: \"avg_Left-choroid-plexus.1D\"\n",
      "/Users/mdclark/anaconda3/envs/python27/lib/python2.7/site-packages/ipykernel_launcher.py:18: UserWarning: loadtxt: Empty input file: \"avg_Right-Cerebral-White-Matter.1D\"\n"
     ]
    },
    {
     "name": "stdout",
     "output_type": "stream",
     "text": [
      "3dmaskave -quiet -mask /Users/mdclark/Desktop/ISCAnalysis/data/fmri/ts/nifti/sub-289/aseg_3mm+orig\"<21..21>\" sub-289_epi_all_preprocessed+orig > avg_Right-Lateral-Ventricle.1D\n",
      "3dmaskave -quiet -mask /Users/mdclark/Desktop/ISCAnalysis/data/fmri/ts/nifti/sub-289/aseg_3mm+orig\"<22..22>\" sub-289_epi_all_preprocessed+orig > avg_Right-Inf-Lat-Vent.1D\n",
      "3dmaskave -quiet -mask /Users/mdclark/Desktop/ISCAnalysis/data/fmri/ts/nifti/sub-289/aseg_3mm+orig\"<23..23>\" sub-289_epi_all_preprocessed+orig > avg_Right-Cerebellum-White-Matter.1D\n",
      "3dmaskave -quiet -mask /Users/mdclark/Desktop/ISCAnalysis/data/fmri/ts/nifti/sub-289/aseg_3mm+orig\"<24..24>\" sub-289_epi_all_preprocessed+orig > avg_Right-Cerebellum-Cortex.1D\n",
      "3dmaskave -quiet -mask /Users/mdclark/Desktop/ISCAnalysis/data/fmri/ts/nifti/sub-289/aseg_3mm+orig\"<25..25>\" sub-289_epi_all_preprocessed+orig > avg_Right-Thalamus-Proper.1D\n"
     ]
    },
    {
     "name": "stderr",
     "output_type": "stream",
     "text": [
      "/Users/mdclark/anaconda3/envs/python27/lib/python2.7/site-packages/ipykernel_launcher.py:18: UserWarning: loadtxt: Empty input file: \"avg_Right-Lateral-Ventricle.1D\"\n",
      "/Users/mdclark/anaconda3/envs/python27/lib/python2.7/site-packages/ipykernel_launcher.py:18: UserWarning: loadtxt: Empty input file: \"avg_Right-Inf-Lat-Vent.1D\"\n",
      "/Users/mdclark/anaconda3/envs/python27/lib/python2.7/site-packages/ipykernel_launcher.py:18: UserWarning: loadtxt: Empty input file: \"avg_Right-Cerebellum-White-Matter.1D\"\n",
      "/Users/mdclark/anaconda3/envs/python27/lib/python2.7/site-packages/ipykernel_launcher.py:18: UserWarning: loadtxt: Empty input file: \"avg_Right-Cerebellum-Cortex.1D\"\n",
      "/Users/mdclark/anaconda3/envs/python27/lib/python2.7/site-packages/ipykernel_launcher.py:18: UserWarning: loadtxt: Empty input file: \"avg_Right-Thalamus-Proper.1D\"\n"
     ]
    },
    {
     "name": "stdout",
     "output_type": "stream",
     "text": [
      "3dmaskave -quiet -mask /Users/mdclark/Desktop/ISCAnalysis/data/fmri/ts/nifti/sub-289/aseg_3mm+orig\"<26..26>\" sub-289_epi_all_preprocessed+orig > avg_Right-Caudate.1D\n",
      "3dmaskave -quiet -mask /Users/mdclark/Desktop/ISCAnalysis/data/fmri/ts/nifti/sub-289/aseg_3mm+orig\"<27..27>\" sub-289_epi_all_preprocessed+orig > avg_Right-Putamen.1D\n",
      "3dmaskave -quiet -mask /Users/mdclark/Desktop/ISCAnalysis/data/fmri/ts/nifti/sub-289/aseg_3mm+orig\"<28..28>\" sub-289_epi_all_preprocessed+orig > avg_Right-Pallidum.1D\n",
      "3dmaskave -quiet -mask /Users/mdclark/Desktop/ISCAnalysis/data/fmri/ts/nifti/sub-289/aseg_3mm+orig\"<29..29>\" sub-289_epi_all_preprocessed+orig > avg_Right-Hippocampus.1D\n",
      "3dmaskave -quiet -mask /Users/mdclark/Desktop/ISCAnalysis/data/fmri/ts/nifti/sub-289/aseg_3mm+orig\"<30..30>\" sub-289_epi_all_preprocessed+orig > avg_Right-Amygdala.1D\n"
     ]
    },
    {
     "name": "stderr",
     "output_type": "stream",
     "text": [
      "/Users/mdclark/anaconda3/envs/python27/lib/python2.7/site-packages/ipykernel_launcher.py:18: UserWarning: loadtxt: Empty input file: \"avg_Right-Caudate.1D\"\n",
      "/Users/mdclark/anaconda3/envs/python27/lib/python2.7/site-packages/ipykernel_launcher.py:18: UserWarning: loadtxt: Empty input file: \"avg_Right-Putamen.1D\"\n",
      "/Users/mdclark/anaconda3/envs/python27/lib/python2.7/site-packages/ipykernel_launcher.py:18: UserWarning: loadtxt: Empty input file: \"avg_Right-Pallidum.1D\"\n",
      "/Users/mdclark/anaconda3/envs/python27/lib/python2.7/site-packages/ipykernel_launcher.py:18: UserWarning: loadtxt: Empty input file: \"avg_Right-Hippocampus.1D\"\n",
      "/Users/mdclark/anaconda3/envs/python27/lib/python2.7/site-packages/ipykernel_launcher.py:18: UserWarning: loadtxt: Empty input file: \"avg_Right-Amygdala.1D\"\n"
     ]
    },
    {
     "name": "stdout",
     "output_type": "stream",
     "text": [
      "3dmaskave -quiet -mask /Users/mdclark/Desktop/ISCAnalysis/data/fmri/ts/nifti/sub-289/aseg_3mm+orig\"<31..31>\" sub-289_epi_all_preprocessed+orig > avg_Right-Accumbens-area.1D\n",
      "3dmaskave -quiet -mask /Users/mdclark/Desktop/ISCAnalysis/data/fmri/ts/nifti/sub-289/aseg_3mm+orig\"<32..32>\" sub-289_epi_all_preprocessed+orig > avg_Right-VentralDC.1D\n",
      "3dmaskave -quiet -mask /Users/mdclark/Desktop/ISCAnalysis/data/fmri/ts/nifti/sub-289/aseg_3mm+orig\"<33..33>\" sub-289_epi_all_preprocessed+orig > avg_Right-vessel.1D\n",
      "3dmaskave -quiet -mask /Users/mdclark/Desktop/ISCAnalysis/data/fmri/ts/nifti/sub-289/aseg_3mm+orig\"<34..34>\" sub-289_epi_all_preprocessed+orig > avg_Right-choroid-plexus.1D\n",
      "3dmaskave -quiet -mask /Users/mdclark/Desktop/ISCAnalysis/data/fmri/ts/nifti/sub-289/aseg_3mm+orig\"<35..35>\" sub-289_epi_all_preprocessed+orig > avg_WM-hypointensities.1D\n"
     ]
    },
    {
     "name": "stderr",
     "output_type": "stream",
     "text": [
      "/Users/mdclark/anaconda3/envs/python27/lib/python2.7/site-packages/ipykernel_launcher.py:18: UserWarning: loadtxt: Empty input file: \"avg_Right-Accumbens-area.1D\"\n",
      "/Users/mdclark/anaconda3/envs/python27/lib/python2.7/site-packages/ipykernel_launcher.py:18: UserWarning: loadtxt: Empty input file: \"avg_Right-VentralDC.1D\"\n",
      "/Users/mdclark/anaconda3/envs/python27/lib/python2.7/site-packages/ipykernel_launcher.py:18: UserWarning: loadtxt: Empty input file: \"avg_Right-vessel.1D\"\n",
      "/Users/mdclark/anaconda3/envs/python27/lib/python2.7/site-packages/ipykernel_launcher.py:18: UserWarning: loadtxt: Empty input file: \"avg_Right-choroid-plexus.1D\"\n",
      "/Users/mdclark/anaconda3/envs/python27/lib/python2.7/site-packages/ipykernel_launcher.py:18: UserWarning: loadtxt: Empty input file: \"avg_WM-hypointensities.1D\"\n"
     ]
    },
    {
     "name": "stdout",
     "output_type": "stream",
     "text": [
      "3dmaskave -quiet -mask /Users/mdclark/Desktop/ISCAnalysis/data/fmri/ts/nifti/sub-289/aseg_3mm+orig\"<36..36>\" sub-289_epi_all_preprocessed+orig > avg_Optic-Chiasm.1D\n",
      "3dmaskave -quiet -mask /Users/mdclark/Desktop/ISCAnalysis/data/fmri/ts/nifti/sub-289/aseg_3mm+orig\"<37..37>\" sub-289_epi_all_preprocessed+orig > avg_CC_Posterior.1D\n",
      "3dmaskave -quiet -mask /Users/mdclark/Desktop/ISCAnalysis/data/fmri/ts/nifti/sub-289/aseg_3mm+orig\"<38..38>\" sub-289_epi_all_preprocessed+orig > avg_CC_Mid_Posterior.1D\n",
      "3dmaskave -quiet -mask /Users/mdclark/Desktop/ISCAnalysis/data/fmri/ts/nifti/sub-289/aseg_3mm+orig\"<39..39>\" sub-289_epi_all_preprocessed+orig > avg_CC_Central.1D\n",
      "3dmaskave -quiet -mask /Users/mdclark/Desktop/ISCAnalysis/data/fmri/ts/nifti/sub-289/aseg_3mm+orig\"<40..40>\" sub-289_epi_all_preprocessed+orig > avg_CC_Mid_Anterior.1D\n"
     ]
    },
    {
     "name": "stderr",
     "output_type": "stream",
     "text": [
      "/Users/mdclark/anaconda3/envs/python27/lib/python2.7/site-packages/ipykernel_launcher.py:18: UserWarning: loadtxt: Empty input file: \"avg_Optic-Chiasm.1D\"\n",
      "/Users/mdclark/anaconda3/envs/python27/lib/python2.7/site-packages/ipykernel_launcher.py:18: UserWarning: loadtxt: Empty input file: \"avg_CC_Posterior.1D\"\n",
      "/Users/mdclark/anaconda3/envs/python27/lib/python2.7/site-packages/ipykernel_launcher.py:18: UserWarning: loadtxt: Empty input file: \"avg_CC_Mid_Posterior.1D\"\n",
      "/Users/mdclark/anaconda3/envs/python27/lib/python2.7/site-packages/ipykernel_launcher.py:18: UserWarning: loadtxt: Empty input file: \"avg_CC_Central.1D\"\n",
      "/Users/mdclark/anaconda3/envs/python27/lib/python2.7/site-packages/ipykernel_launcher.py:18: UserWarning: loadtxt: Empty input file: \"avg_CC_Mid_Anterior.1D\"\n"
     ]
    },
    {
     "name": "stdout",
     "output_type": "stream",
     "text": [
      "3dmaskave -quiet -mask /Users/mdclark/Desktop/ISCAnalysis/data/fmri/ts/nifti/sub-289/aseg_3mm+orig\"<41..41>\" sub-289_epi_all_preprocessed+orig > avg_CC_Anterior.1D\n",
      "3dmaskave -quiet -mask /Users/mdclark/Desktop/ISCAnalysis/data/fmri/ts/nifti/sub-289/aseg_3mm+orig\"<42..42>\" sub-289_epi_all_preprocessed+orig > avg_ctx-lh-unknown.1D\n",
      "3dmaskave -quiet -mask /Users/mdclark/Desktop/ISCAnalysis/data/fmri/ts/nifti/sub-289/aseg_3mm+orig\"<43..43>\" sub-289_epi_all_preprocessed+orig > avg_ctx-lh-bankssts.1D\n",
      "3dmaskave -quiet -mask /Users/mdclark/Desktop/ISCAnalysis/data/fmri/ts/nifti/sub-289/aseg_3mm+orig\"<44..44>\" sub-289_epi_all_preprocessed+orig > avg_ctx-lh-caudalanteriorcingulate.1D\n",
      "3dmaskave -quiet -mask /Users/mdclark/Desktop/ISCAnalysis/data/fmri/ts/nifti/sub-289/aseg_3mm+orig\"<45..45>\" sub-289_epi_all_preprocessed+orig > avg_ctx-lh-caudalmiddlefrontal.1D\n"
     ]
    },
    {
     "name": "stderr",
     "output_type": "stream",
     "text": [
      "/Users/mdclark/anaconda3/envs/python27/lib/python2.7/site-packages/ipykernel_launcher.py:18: UserWarning: loadtxt: Empty input file: \"avg_CC_Anterior.1D\"\n",
      "/Users/mdclark/anaconda3/envs/python27/lib/python2.7/site-packages/ipykernel_launcher.py:18: UserWarning: loadtxt: Empty input file: \"avg_ctx-lh-unknown.1D\"\n",
      "/Users/mdclark/anaconda3/envs/python27/lib/python2.7/site-packages/ipykernel_launcher.py:18: UserWarning: loadtxt: Empty input file: \"avg_ctx-lh-bankssts.1D\"\n",
      "/Users/mdclark/anaconda3/envs/python27/lib/python2.7/site-packages/ipykernel_launcher.py:18: UserWarning: loadtxt: Empty input file: \"avg_ctx-lh-caudalanteriorcingulate.1D\"\n",
      "/Users/mdclark/anaconda3/envs/python27/lib/python2.7/site-packages/ipykernel_launcher.py:18: UserWarning: loadtxt: Empty input file: \"avg_ctx-lh-caudalmiddlefrontal.1D\"\n"
     ]
    },
    {
     "name": "stdout",
     "output_type": "stream",
     "text": [
      "3dmaskave -quiet -mask /Users/mdclark/Desktop/ISCAnalysis/data/fmri/ts/nifti/sub-289/aseg_3mm+orig\"<46..46>\" sub-289_epi_all_preprocessed+orig > avg_ctx-lh-cuneus.1D\n",
      "3dmaskave -quiet -mask /Users/mdclark/Desktop/ISCAnalysis/data/fmri/ts/nifti/sub-289/aseg_3mm+orig\"<47..47>\" sub-289_epi_all_preprocessed+orig > avg_ctx-lh-entorhinal.1D\n",
      "3dmaskave -quiet -mask /Users/mdclark/Desktop/ISCAnalysis/data/fmri/ts/nifti/sub-289/aseg_3mm+orig\"<48..48>\" sub-289_epi_all_preprocessed+orig > avg_ctx-lh-fusiform.1D\n",
      "3dmaskave -quiet -mask /Users/mdclark/Desktop/ISCAnalysis/data/fmri/ts/nifti/sub-289/aseg_3mm+orig\"<49..49>\" sub-289_epi_all_preprocessed+orig > avg_ctx-lh-inferiorparietal.1D\n",
      "3dmaskave -quiet -mask /Users/mdclark/Desktop/ISCAnalysis/data/fmri/ts/nifti/sub-289/aseg_3mm+orig\"<50..50>\" sub-289_epi_all_preprocessed+orig > avg_ctx-lh-inferiortemporal.1D\n"
     ]
    },
    {
     "name": "stderr",
     "output_type": "stream",
     "text": [
      "/Users/mdclark/anaconda3/envs/python27/lib/python2.7/site-packages/ipykernel_launcher.py:18: UserWarning: loadtxt: Empty input file: \"avg_ctx-lh-cuneus.1D\"\n",
      "/Users/mdclark/anaconda3/envs/python27/lib/python2.7/site-packages/ipykernel_launcher.py:18: UserWarning: loadtxt: Empty input file: \"avg_ctx-lh-entorhinal.1D\"\n",
      "/Users/mdclark/anaconda3/envs/python27/lib/python2.7/site-packages/ipykernel_launcher.py:18: UserWarning: loadtxt: Empty input file: \"avg_ctx-lh-fusiform.1D\"\n",
      "/Users/mdclark/anaconda3/envs/python27/lib/python2.7/site-packages/ipykernel_launcher.py:18: UserWarning: loadtxt: Empty input file: \"avg_ctx-lh-inferiorparietal.1D\"\n",
      "/Users/mdclark/anaconda3/envs/python27/lib/python2.7/site-packages/ipykernel_launcher.py:18: UserWarning: loadtxt: Empty input file: \"avg_ctx-lh-inferiortemporal.1D\"\n"
     ]
    },
    {
     "name": "stdout",
     "output_type": "stream",
     "text": [
      "3dmaskave -quiet -mask /Users/mdclark/Desktop/ISCAnalysis/data/fmri/ts/nifti/sub-289/aseg_3mm+orig\"<51..51>\" sub-289_epi_all_preprocessed+orig > avg_ctx-lh-isthmuscingulate.1D\n",
      "3dmaskave -quiet -mask /Users/mdclark/Desktop/ISCAnalysis/data/fmri/ts/nifti/sub-289/aseg_3mm+orig\"<52..52>\" sub-289_epi_all_preprocessed+orig > avg_ctx-lh-lateraloccipital.1D\n",
      "3dmaskave -quiet -mask /Users/mdclark/Desktop/ISCAnalysis/data/fmri/ts/nifti/sub-289/aseg_3mm+orig\"<53..53>\" sub-289_epi_all_preprocessed+orig > avg_ctx-lh-lateralorbitofrontal.1D\n",
      "3dmaskave -quiet -mask /Users/mdclark/Desktop/ISCAnalysis/data/fmri/ts/nifti/sub-289/aseg_3mm+orig\"<54..54>\" sub-289_epi_all_preprocessed+orig > avg_ctx-lh-lingual.1D\n",
      "3dmaskave -quiet -mask /Users/mdclark/Desktop/ISCAnalysis/data/fmri/ts/nifti/sub-289/aseg_3mm+orig\"<55..55>\" sub-289_epi_all_preprocessed+orig > avg_ctx-lh-medialorbitofrontal.1D\n"
     ]
    },
    {
     "name": "stderr",
     "output_type": "stream",
     "text": [
      "/Users/mdclark/anaconda3/envs/python27/lib/python2.7/site-packages/ipykernel_launcher.py:18: UserWarning: loadtxt: Empty input file: \"avg_ctx-lh-isthmuscingulate.1D\"\n",
      "/Users/mdclark/anaconda3/envs/python27/lib/python2.7/site-packages/ipykernel_launcher.py:18: UserWarning: loadtxt: Empty input file: \"avg_ctx-lh-lateraloccipital.1D\"\n",
      "/Users/mdclark/anaconda3/envs/python27/lib/python2.7/site-packages/ipykernel_launcher.py:18: UserWarning: loadtxt: Empty input file: \"avg_ctx-lh-lateralorbitofrontal.1D\"\n",
      "/Users/mdclark/anaconda3/envs/python27/lib/python2.7/site-packages/ipykernel_launcher.py:18: UserWarning: loadtxt: Empty input file: \"avg_ctx-lh-lingual.1D\"\n",
      "/Users/mdclark/anaconda3/envs/python27/lib/python2.7/site-packages/ipykernel_launcher.py:18: UserWarning: loadtxt: Empty input file: \"avg_ctx-lh-medialorbitofrontal.1D\"\n"
     ]
    },
    {
     "name": "stdout",
     "output_type": "stream",
     "text": [
      "3dmaskave -quiet -mask /Users/mdclark/Desktop/ISCAnalysis/data/fmri/ts/nifti/sub-289/aseg_3mm+orig\"<56..56>\" sub-289_epi_all_preprocessed+orig > avg_ctx-lh-middletemporal.1D\n",
      "3dmaskave -quiet -mask /Users/mdclark/Desktop/ISCAnalysis/data/fmri/ts/nifti/sub-289/aseg_3mm+orig\"<57..57>\" sub-289_epi_all_preprocessed+orig > avg_ctx-lh-parahippocampal.1D\n",
      "3dmaskave -quiet -mask /Users/mdclark/Desktop/ISCAnalysis/data/fmri/ts/nifti/sub-289/aseg_3mm+orig\"<58..58>\" sub-289_epi_all_preprocessed+orig > avg_ctx-lh-paracentral.1D\n",
      "3dmaskave -quiet -mask /Users/mdclark/Desktop/ISCAnalysis/data/fmri/ts/nifti/sub-289/aseg_3mm+orig\"<59..59>\" sub-289_epi_all_preprocessed+orig > avg_ctx-lh-parsopercularis.1D\n",
      "3dmaskave -quiet -mask /Users/mdclark/Desktop/ISCAnalysis/data/fmri/ts/nifti/sub-289/aseg_3mm+orig\"<60..60>\" sub-289_epi_all_preprocessed+orig > avg_ctx-lh-parsorbitalis.1D\n"
     ]
    },
    {
     "name": "stderr",
     "output_type": "stream",
     "text": [
      "/Users/mdclark/anaconda3/envs/python27/lib/python2.7/site-packages/ipykernel_launcher.py:18: UserWarning: loadtxt: Empty input file: \"avg_ctx-lh-middletemporal.1D\"\n",
      "/Users/mdclark/anaconda3/envs/python27/lib/python2.7/site-packages/ipykernel_launcher.py:18: UserWarning: loadtxt: Empty input file: \"avg_ctx-lh-parahippocampal.1D\"\n",
      "/Users/mdclark/anaconda3/envs/python27/lib/python2.7/site-packages/ipykernel_launcher.py:18: UserWarning: loadtxt: Empty input file: \"avg_ctx-lh-paracentral.1D\"\n",
      "/Users/mdclark/anaconda3/envs/python27/lib/python2.7/site-packages/ipykernel_launcher.py:18: UserWarning: loadtxt: Empty input file: \"avg_ctx-lh-parsopercularis.1D\"\n",
      "/Users/mdclark/anaconda3/envs/python27/lib/python2.7/site-packages/ipykernel_launcher.py:18: UserWarning: loadtxt: Empty input file: \"avg_ctx-lh-parsorbitalis.1D\"\n"
     ]
    },
    {
     "name": "stdout",
     "output_type": "stream",
     "text": [
      "3dmaskave -quiet -mask /Users/mdclark/Desktop/ISCAnalysis/data/fmri/ts/nifti/sub-289/aseg_3mm+orig\"<61..61>\" sub-289_epi_all_preprocessed+orig > avg_ctx-lh-parstriangularis.1D\n",
      "3dmaskave -quiet -mask /Users/mdclark/Desktop/ISCAnalysis/data/fmri/ts/nifti/sub-289/aseg_3mm+orig\"<62..62>\" sub-289_epi_all_preprocessed+orig > avg_ctx-lh-pericalcarine.1D\n",
      "3dmaskave -quiet -mask /Users/mdclark/Desktop/ISCAnalysis/data/fmri/ts/nifti/sub-289/aseg_3mm+orig\"<63..63>\" sub-289_epi_all_preprocessed+orig > avg_ctx-lh-postcentral.1D\n",
      "3dmaskave -quiet -mask /Users/mdclark/Desktop/ISCAnalysis/data/fmri/ts/nifti/sub-289/aseg_3mm+orig\"<64..64>\" sub-289_epi_all_preprocessed+orig > avg_ctx-lh-posteriorcingulate.1D\n",
      "3dmaskave -quiet -mask /Users/mdclark/Desktop/ISCAnalysis/data/fmri/ts/nifti/sub-289/aseg_3mm+orig\"<65..65>\" sub-289_epi_all_preprocessed+orig > avg_ctx-lh-precentral.1D\n"
     ]
    },
    {
     "name": "stderr",
     "output_type": "stream",
     "text": [
      "/Users/mdclark/anaconda3/envs/python27/lib/python2.7/site-packages/ipykernel_launcher.py:18: UserWarning: loadtxt: Empty input file: \"avg_ctx-lh-parstriangularis.1D\"\n",
      "/Users/mdclark/anaconda3/envs/python27/lib/python2.7/site-packages/ipykernel_launcher.py:18: UserWarning: loadtxt: Empty input file: \"avg_ctx-lh-pericalcarine.1D\"\n",
      "/Users/mdclark/anaconda3/envs/python27/lib/python2.7/site-packages/ipykernel_launcher.py:18: UserWarning: loadtxt: Empty input file: \"avg_ctx-lh-postcentral.1D\"\n",
      "/Users/mdclark/anaconda3/envs/python27/lib/python2.7/site-packages/ipykernel_launcher.py:18: UserWarning: loadtxt: Empty input file: \"avg_ctx-lh-posteriorcingulate.1D\"\n",
      "/Users/mdclark/anaconda3/envs/python27/lib/python2.7/site-packages/ipykernel_launcher.py:18: UserWarning: loadtxt: Empty input file: \"avg_ctx-lh-precentral.1D\"\n"
     ]
    },
    {
     "name": "stdout",
     "output_type": "stream",
     "text": [
      "3dmaskave -quiet -mask /Users/mdclark/Desktop/ISCAnalysis/data/fmri/ts/nifti/sub-289/aseg_3mm+orig\"<66..66>\" sub-289_epi_all_preprocessed+orig > avg_ctx-lh-precuneus.1D\n",
      "3dmaskave -quiet -mask /Users/mdclark/Desktop/ISCAnalysis/data/fmri/ts/nifti/sub-289/aseg_3mm+orig\"<67..67>\" sub-289_epi_all_preprocessed+orig > avg_ctx-lh-rostralanteriorcingulate.1D\n",
      "3dmaskave -quiet -mask /Users/mdclark/Desktop/ISCAnalysis/data/fmri/ts/nifti/sub-289/aseg_3mm+orig\"<68..68>\" sub-289_epi_all_preprocessed+orig > avg_ctx-lh-rostralmiddlefrontal.1D\n",
      "3dmaskave -quiet -mask /Users/mdclark/Desktop/ISCAnalysis/data/fmri/ts/nifti/sub-289/aseg_3mm+orig\"<69..69>\" sub-289_epi_all_preprocessed+orig > avg_ctx-lh-superiorfrontal.1D\n",
      "3dmaskave -quiet -mask /Users/mdclark/Desktop/ISCAnalysis/data/fmri/ts/nifti/sub-289/aseg_3mm+orig\"<70..70>\" sub-289_epi_all_preprocessed+orig > avg_ctx-lh-superiorparietal.1D\n"
     ]
    },
    {
     "name": "stderr",
     "output_type": "stream",
     "text": [
      "/Users/mdclark/anaconda3/envs/python27/lib/python2.7/site-packages/ipykernel_launcher.py:18: UserWarning: loadtxt: Empty input file: \"avg_ctx-lh-precuneus.1D\"\n",
      "/Users/mdclark/anaconda3/envs/python27/lib/python2.7/site-packages/ipykernel_launcher.py:18: UserWarning: loadtxt: Empty input file: \"avg_ctx-lh-rostralanteriorcingulate.1D\"\n",
      "/Users/mdclark/anaconda3/envs/python27/lib/python2.7/site-packages/ipykernel_launcher.py:18: UserWarning: loadtxt: Empty input file: \"avg_ctx-lh-rostralmiddlefrontal.1D\"\n",
      "/Users/mdclark/anaconda3/envs/python27/lib/python2.7/site-packages/ipykernel_launcher.py:18: UserWarning: loadtxt: Empty input file: \"avg_ctx-lh-superiorfrontal.1D\"\n",
      "/Users/mdclark/anaconda3/envs/python27/lib/python2.7/site-packages/ipykernel_launcher.py:18: UserWarning: loadtxt: Empty input file: \"avg_ctx-lh-superiorparietal.1D\"\n"
     ]
    },
    {
     "name": "stdout",
     "output_type": "stream",
     "text": [
      "3dmaskave -quiet -mask /Users/mdclark/Desktop/ISCAnalysis/data/fmri/ts/nifti/sub-289/aseg_3mm+orig\"<71..71>\" sub-289_epi_all_preprocessed+orig > avg_ctx-lh-superiortemporal.1D\n",
      "3dmaskave -quiet -mask /Users/mdclark/Desktop/ISCAnalysis/data/fmri/ts/nifti/sub-289/aseg_3mm+orig\"<72..72>\" sub-289_epi_all_preprocessed+orig > avg_ctx-lh-supramarginal.1D\n",
      "3dmaskave -quiet -mask /Users/mdclark/Desktop/ISCAnalysis/data/fmri/ts/nifti/sub-289/aseg_3mm+orig\"<73..73>\" sub-289_epi_all_preprocessed+orig > avg_ctx-lh-frontalpole.1D\n",
      "3dmaskave -quiet -mask /Users/mdclark/Desktop/ISCAnalysis/data/fmri/ts/nifti/sub-289/aseg_3mm+orig\"<74..74>\" sub-289_epi_all_preprocessed+orig > avg_ctx-lh-temporalpole.1D\n",
      "3dmaskave -quiet -mask /Users/mdclark/Desktop/ISCAnalysis/data/fmri/ts/nifti/sub-289/aseg_3mm+orig\"<75..75>\" sub-289_epi_all_preprocessed+orig > avg_ctx-lh-transversetemporal.1D\n"
     ]
    },
    {
     "name": "stderr",
     "output_type": "stream",
     "text": [
      "/Users/mdclark/anaconda3/envs/python27/lib/python2.7/site-packages/ipykernel_launcher.py:18: UserWarning: loadtxt: Empty input file: \"avg_ctx-lh-superiortemporal.1D\"\n",
      "/Users/mdclark/anaconda3/envs/python27/lib/python2.7/site-packages/ipykernel_launcher.py:18: UserWarning: loadtxt: Empty input file: \"avg_ctx-lh-supramarginal.1D\"\n",
      "/Users/mdclark/anaconda3/envs/python27/lib/python2.7/site-packages/ipykernel_launcher.py:18: UserWarning: loadtxt: Empty input file: \"avg_ctx-lh-frontalpole.1D\"\n",
      "/Users/mdclark/anaconda3/envs/python27/lib/python2.7/site-packages/ipykernel_launcher.py:18: UserWarning: loadtxt: Empty input file: \"avg_ctx-lh-temporalpole.1D\"\n",
      "/Users/mdclark/anaconda3/envs/python27/lib/python2.7/site-packages/ipykernel_launcher.py:18: UserWarning: loadtxt: Empty input file: \"avg_ctx-lh-transversetemporal.1D\"\n"
     ]
    },
    {
     "name": "stdout",
     "output_type": "stream",
     "text": [
      "3dmaskave -quiet -mask /Users/mdclark/Desktop/ISCAnalysis/data/fmri/ts/nifti/sub-289/aseg_3mm+orig\"<76..76>\" sub-289_epi_all_preprocessed+orig > avg_ctx-lh-insula.1D\n",
      "3dmaskave -quiet -mask /Users/mdclark/Desktop/ISCAnalysis/data/fmri/ts/nifti/sub-289/aseg_3mm+orig\"<77..77>\" sub-289_epi_all_preprocessed+orig > avg_ctx-rh-unknown.1D\n",
      "3dmaskave -quiet -mask /Users/mdclark/Desktop/ISCAnalysis/data/fmri/ts/nifti/sub-289/aseg_3mm+orig\"<78..78>\" sub-289_epi_all_preprocessed+orig > avg_ctx-rh-bankssts.1D\n",
      "3dmaskave -quiet -mask /Users/mdclark/Desktop/ISCAnalysis/data/fmri/ts/nifti/sub-289/aseg_3mm+orig\"<79..79>\" sub-289_epi_all_preprocessed+orig > avg_ctx-rh-caudalanteriorcingulate.1D\n",
      "3dmaskave -quiet -mask /Users/mdclark/Desktop/ISCAnalysis/data/fmri/ts/nifti/sub-289/aseg_3mm+orig\"<80..80>\" sub-289_epi_all_preprocessed+orig > avg_ctx-rh-caudalmiddlefrontal.1D\n"
     ]
    },
    {
     "name": "stderr",
     "output_type": "stream",
     "text": [
      "/Users/mdclark/anaconda3/envs/python27/lib/python2.7/site-packages/ipykernel_launcher.py:18: UserWarning: loadtxt: Empty input file: \"avg_ctx-lh-insula.1D\"\n",
      "/Users/mdclark/anaconda3/envs/python27/lib/python2.7/site-packages/ipykernel_launcher.py:18: UserWarning: loadtxt: Empty input file: \"avg_ctx-rh-unknown.1D\"\n",
      "/Users/mdclark/anaconda3/envs/python27/lib/python2.7/site-packages/ipykernel_launcher.py:18: UserWarning: loadtxt: Empty input file: \"avg_ctx-rh-bankssts.1D\"\n",
      "/Users/mdclark/anaconda3/envs/python27/lib/python2.7/site-packages/ipykernel_launcher.py:18: UserWarning: loadtxt: Empty input file: \"avg_ctx-rh-caudalanteriorcingulate.1D\"\n",
      "/Users/mdclark/anaconda3/envs/python27/lib/python2.7/site-packages/ipykernel_launcher.py:18: UserWarning: loadtxt: Empty input file: \"avg_ctx-rh-caudalmiddlefrontal.1D\"\n"
     ]
    },
    {
     "name": "stdout",
     "output_type": "stream",
     "text": [
      "3dmaskave -quiet -mask /Users/mdclark/Desktop/ISCAnalysis/data/fmri/ts/nifti/sub-289/aseg_3mm+orig\"<81..81>\" sub-289_epi_all_preprocessed+orig > avg_ctx-rh-cuneus.1D\n",
      "3dmaskave -quiet -mask /Users/mdclark/Desktop/ISCAnalysis/data/fmri/ts/nifti/sub-289/aseg_3mm+orig\"<82..82>\" sub-289_epi_all_preprocessed+orig > avg_ctx-rh-entorhinal.1D\n",
      "3dmaskave -quiet -mask /Users/mdclark/Desktop/ISCAnalysis/data/fmri/ts/nifti/sub-289/aseg_3mm+orig\"<83..83>\" sub-289_epi_all_preprocessed+orig > avg_ctx-rh-fusiform.1D\n",
      "3dmaskave -quiet -mask /Users/mdclark/Desktop/ISCAnalysis/data/fmri/ts/nifti/sub-289/aseg_3mm+orig\"<84..84>\" sub-289_epi_all_preprocessed+orig > avg_ctx-rh-inferiorparietal.1D\n",
      "3dmaskave -quiet -mask /Users/mdclark/Desktop/ISCAnalysis/data/fmri/ts/nifti/sub-289/aseg_3mm+orig\"<85..85>\" sub-289_epi_all_preprocessed+orig > avg_ctx-rh-inferiortemporal.1D\n"
     ]
    },
    {
     "name": "stderr",
     "output_type": "stream",
     "text": [
      "/Users/mdclark/anaconda3/envs/python27/lib/python2.7/site-packages/ipykernel_launcher.py:18: UserWarning: loadtxt: Empty input file: \"avg_ctx-rh-cuneus.1D\"\n",
      "/Users/mdclark/anaconda3/envs/python27/lib/python2.7/site-packages/ipykernel_launcher.py:18: UserWarning: loadtxt: Empty input file: \"avg_ctx-rh-entorhinal.1D\"\n",
      "/Users/mdclark/anaconda3/envs/python27/lib/python2.7/site-packages/ipykernel_launcher.py:18: UserWarning: loadtxt: Empty input file: \"avg_ctx-rh-fusiform.1D\"\n",
      "/Users/mdclark/anaconda3/envs/python27/lib/python2.7/site-packages/ipykernel_launcher.py:18: UserWarning: loadtxt: Empty input file: \"avg_ctx-rh-inferiorparietal.1D\"\n",
      "/Users/mdclark/anaconda3/envs/python27/lib/python2.7/site-packages/ipykernel_launcher.py:18: UserWarning: loadtxt: Empty input file: \"avg_ctx-rh-inferiortemporal.1D\"\n"
     ]
    },
    {
     "name": "stdout",
     "output_type": "stream",
     "text": [
      "3dmaskave -quiet -mask /Users/mdclark/Desktop/ISCAnalysis/data/fmri/ts/nifti/sub-289/aseg_3mm+orig\"<86..86>\" sub-289_epi_all_preprocessed+orig > avg_ctx-rh-isthmuscingulate.1D\n",
      "3dmaskave -quiet -mask /Users/mdclark/Desktop/ISCAnalysis/data/fmri/ts/nifti/sub-289/aseg_3mm+orig\"<87..87>\" sub-289_epi_all_preprocessed+orig > avg_ctx-rh-lateraloccipital.1D\n",
      "3dmaskave -quiet -mask /Users/mdclark/Desktop/ISCAnalysis/data/fmri/ts/nifti/sub-289/aseg_3mm+orig\"<88..88>\" sub-289_epi_all_preprocessed+orig > avg_ctx-rh-lateralorbitofrontal.1D\n",
      "3dmaskave -quiet -mask /Users/mdclark/Desktop/ISCAnalysis/data/fmri/ts/nifti/sub-289/aseg_3mm+orig\"<89..89>\" sub-289_epi_all_preprocessed+orig > avg_ctx-rh-lingual.1D\n",
      "3dmaskave -quiet -mask /Users/mdclark/Desktop/ISCAnalysis/data/fmri/ts/nifti/sub-289/aseg_3mm+orig\"<90..90>\" sub-289_epi_all_preprocessed+orig > avg_ctx-rh-medialorbitofrontal.1D\n"
     ]
    },
    {
     "name": "stderr",
     "output_type": "stream",
     "text": [
      "/Users/mdclark/anaconda3/envs/python27/lib/python2.7/site-packages/ipykernel_launcher.py:18: UserWarning: loadtxt: Empty input file: \"avg_ctx-rh-isthmuscingulate.1D\"\n",
      "/Users/mdclark/anaconda3/envs/python27/lib/python2.7/site-packages/ipykernel_launcher.py:18: UserWarning: loadtxt: Empty input file: \"avg_ctx-rh-lateraloccipital.1D\"\n",
      "/Users/mdclark/anaconda3/envs/python27/lib/python2.7/site-packages/ipykernel_launcher.py:18: UserWarning: loadtxt: Empty input file: \"avg_ctx-rh-lateralorbitofrontal.1D\"\n",
      "/Users/mdclark/anaconda3/envs/python27/lib/python2.7/site-packages/ipykernel_launcher.py:18: UserWarning: loadtxt: Empty input file: \"avg_ctx-rh-lingual.1D\"\n",
      "/Users/mdclark/anaconda3/envs/python27/lib/python2.7/site-packages/ipykernel_launcher.py:18: UserWarning: loadtxt: Empty input file: \"avg_ctx-rh-medialorbitofrontal.1D\"\n"
     ]
    },
    {
     "name": "stdout",
     "output_type": "stream",
     "text": [
      "3dmaskave -quiet -mask /Users/mdclark/Desktop/ISCAnalysis/data/fmri/ts/nifti/sub-289/aseg_3mm+orig\"<91..91>\" sub-289_epi_all_preprocessed+orig > avg_ctx-rh-middletemporal.1D\n",
      "3dmaskave -quiet -mask /Users/mdclark/Desktop/ISCAnalysis/data/fmri/ts/nifti/sub-289/aseg_3mm+orig\"<92..92>\" sub-289_epi_all_preprocessed+orig > avg_ctx-rh-parahippocampal.1D\n",
      "3dmaskave -quiet -mask /Users/mdclark/Desktop/ISCAnalysis/data/fmri/ts/nifti/sub-289/aseg_3mm+orig\"<93..93>\" sub-289_epi_all_preprocessed+orig > avg_ctx-rh-paracentral.1D\n",
      "3dmaskave -quiet -mask /Users/mdclark/Desktop/ISCAnalysis/data/fmri/ts/nifti/sub-289/aseg_3mm+orig\"<94..94>\" sub-289_epi_all_preprocessed+orig > avg_ctx-rh-parsopercularis.1D\n",
      "3dmaskave -quiet -mask /Users/mdclark/Desktop/ISCAnalysis/data/fmri/ts/nifti/sub-289/aseg_3mm+orig\"<95..95>\" sub-289_epi_all_preprocessed+orig > avg_ctx-rh-parsorbitalis.1D\n"
     ]
    },
    {
     "name": "stderr",
     "output_type": "stream",
     "text": [
      "/Users/mdclark/anaconda3/envs/python27/lib/python2.7/site-packages/ipykernel_launcher.py:18: UserWarning: loadtxt: Empty input file: \"avg_ctx-rh-middletemporal.1D\"\n",
      "/Users/mdclark/anaconda3/envs/python27/lib/python2.7/site-packages/ipykernel_launcher.py:18: UserWarning: loadtxt: Empty input file: \"avg_ctx-rh-parahippocampal.1D\"\n",
      "/Users/mdclark/anaconda3/envs/python27/lib/python2.7/site-packages/ipykernel_launcher.py:18: UserWarning: loadtxt: Empty input file: \"avg_ctx-rh-paracentral.1D\"\n",
      "/Users/mdclark/anaconda3/envs/python27/lib/python2.7/site-packages/ipykernel_launcher.py:18: UserWarning: loadtxt: Empty input file: \"avg_ctx-rh-parsopercularis.1D\"\n",
      "/Users/mdclark/anaconda3/envs/python27/lib/python2.7/site-packages/ipykernel_launcher.py:18: UserWarning: loadtxt: Empty input file: \"avg_ctx-rh-parsorbitalis.1D\"\n"
     ]
    },
    {
     "name": "stdout",
     "output_type": "stream",
     "text": [
      "3dmaskave -quiet -mask /Users/mdclark/Desktop/ISCAnalysis/data/fmri/ts/nifti/sub-289/aseg_3mm+orig\"<96..96>\" sub-289_epi_all_preprocessed+orig > avg_ctx-rh-parstriangularis.1D\n",
      "3dmaskave -quiet -mask /Users/mdclark/Desktop/ISCAnalysis/data/fmri/ts/nifti/sub-289/aseg_3mm+orig\"<97..97>\" sub-289_epi_all_preprocessed+orig > avg_ctx-rh-pericalcarine.1D\n",
      "3dmaskave -quiet -mask /Users/mdclark/Desktop/ISCAnalysis/data/fmri/ts/nifti/sub-289/aseg_3mm+orig\"<98..98>\" sub-289_epi_all_preprocessed+orig > avg_ctx-rh-postcentral.1D\n",
      "3dmaskave -quiet -mask /Users/mdclark/Desktop/ISCAnalysis/data/fmri/ts/nifti/sub-289/aseg_3mm+orig\"<99..99>\" sub-289_epi_all_preprocessed+orig > avg_ctx-rh-posteriorcingulate.1D\n",
      "3dmaskave -quiet -mask /Users/mdclark/Desktop/ISCAnalysis/data/fmri/ts/nifti/sub-289/aseg_3mm+orig\"<100..100>\" sub-289_epi_all_preprocessed+orig > avg_ctx-rh-precentral.1D\n"
     ]
    },
    {
     "name": "stderr",
     "output_type": "stream",
     "text": [
      "/Users/mdclark/anaconda3/envs/python27/lib/python2.7/site-packages/ipykernel_launcher.py:18: UserWarning: loadtxt: Empty input file: \"avg_ctx-rh-parstriangularis.1D\"\n",
      "/Users/mdclark/anaconda3/envs/python27/lib/python2.7/site-packages/ipykernel_launcher.py:18: UserWarning: loadtxt: Empty input file: \"avg_ctx-rh-pericalcarine.1D\"\n",
      "/Users/mdclark/anaconda3/envs/python27/lib/python2.7/site-packages/ipykernel_launcher.py:18: UserWarning: loadtxt: Empty input file: \"avg_ctx-rh-postcentral.1D\"\n",
      "/Users/mdclark/anaconda3/envs/python27/lib/python2.7/site-packages/ipykernel_launcher.py:18: UserWarning: loadtxt: Empty input file: \"avg_ctx-rh-posteriorcingulate.1D\"\n",
      "/Users/mdclark/anaconda3/envs/python27/lib/python2.7/site-packages/ipykernel_launcher.py:18: UserWarning: loadtxt: Empty input file: \"avg_ctx-rh-precentral.1D\"\n"
     ]
    },
    {
     "name": "stdout",
     "output_type": "stream",
     "text": [
      "3dmaskave -quiet -mask /Users/mdclark/Desktop/ISCAnalysis/data/fmri/ts/nifti/sub-289/aseg_3mm+orig\"<101..101>\" sub-289_epi_all_preprocessed+orig > avg_ctx-rh-precuneus.1D\n",
      "3dmaskave -quiet -mask /Users/mdclark/Desktop/ISCAnalysis/data/fmri/ts/nifti/sub-289/aseg_3mm+orig\"<102..102>\" sub-289_epi_all_preprocessed+orig > avg_ctx-rh-rostralanteriorcingulate.1D\n",
      "3dmaskave -quiet -mask /Users/mdclark/Desktop/ISCAnalysis/data/fmri/ts/nifti/sub-289/aseg_3mm+orig\"<103..103>\" sub-289_epi_all_preprocessed+orig > avg_ctx-rh-rostralmiddlefrontal.1D\n",
      "3dmaskave -quiet -mask /Users/mdclark/Desktop/ISCAnalysis/data/fmri/ts/nifti/sub-289/aseg_3mm+orig\"<104..104>\" sub-289_epi_all_preprocessed+orig > avg_ctx-rh-superiorfrontal.1D\n",
      "3dmaskave -quiet -mask /Users/mdclark/Desktop/ISCAnalysis/data/fmri/ts/nifti/sub-289/aseg_3mm+orig\"<105..105>\" sub-289_epi_all_preprocessed+orig > avg_ctx-rh-superiorparietal.1D\n"
     ]
    },
    {
     "name": "stderr",
     "output_type": "stream",
     "text": [
      "/Users/mdclark/anaconda3/envs/python27/lib/python2.7/site-packages/ipykernel_launcher.py:18: UserWarning: loadtxt: Empty input file: \"avg_ctx-rh-precuneus.1D\"\n",
      "/Users/mdclark/anaconda3/envs/python27/lib/python2.7/site-packages/ipykernel_launcher.py:18: UserWarning: loadtxt: Empty input file: \"avg_ctx-rh-rostralanteriorcingulate.1D\"\n",
      "/Users/mdclark/anaconda3/envs/python27/lib/python2.7/site-packages/ipykernel_launcher.py:18: UserWarning: loadtxt: Empty input file: \"avg_ctx-rh-rostralmiddlefrontal.1D\"\n",
      "/Users/mdclark/anaconda3/envs/python27/lib/python2.7/site-packages/ipykernel_launcher.py:18: UserWarning: loadtxt: Empty input file: \"avg_ctx-rh-superiorfrontal.1D\"\n",
      "/Users/mdclark/anaconda3/envs/python27/lib/python2.7/site-packages/ipykernel_launcher.py:18: UserWarning: loadtxt: Empty input file: \"avg_ctx-rh-superiorparietal.1D\"\n"
     ]
    },
    {
     "name": "stdout",
     "output_type": "stream",
     "text": [
      "3dmaskave -quiet -mask /Users/mdclark/Desktop/ISCAnalysis/data/fmri/ts/nifti/sub-289/aseg_3mm+orig\"<106..106>\" sub-289_epi_all_preprocessed+orig > avg_ctx-rh-superiortemporal.1D\n",
      "3dmaskave -quiet -mask /Users/mdclark/Desktop/ISCAnalysis/data/fmri/ts/nifti/sub-289/aseg_3mm+orig\"<107..107>\" sub-289_epi_all_preprocessed+orig > avg_ctx-rh-supramarginal.1D\n",
      "3dmaskave -quiet -mask /Users/mdclark/Desktop/ISCAnalysis/data/fmri/ts/nifti/sub-289/aseg_3mm+orig\"<108..108>\" sub-289_epi_all_preprocessed+orig > avg_ctx-rh-frontalpole.1D\n",
      "3dmaskave -quiet -mask /Users/mdclark/Desktop/ISCAnalysis/data/fmri/ts/nifti/sub-289/aseg_3mm+orig\"<109..109>\" sub-289_epi_all_preprocessed+orig > avg_ctx-rh-temporalpole.1D\n"
     ]
    },
    {
     "name": "stderr",
     "output_type": "stream",
     "text": [
      "/Users/mdclark/anaconda3/envs/python27/lib/python2.7/site-packages/ipykernel_launcher.py:18: UserWarning: loadtxt: Empty input file: \"avg_ctx-rh-superiortemporal.1D\"\n",
      "/Users/mdclark/anaconda3/envs/python27/lib/python2.7/site-packages/ipykernel_launcher.py:18: UserWarning: loadtxt: Empty input file: \"avg_ctx-rh-supramarginal.1D\"\n",
      "/Users/mdclark/anaconda3/envs/python27/lib/python2.7/site-packages/ipykernel_launcher.py:18: UserWarning: loadtxt: Empty input file: \"avg_ctx-rh-frontalpole.1D\"\n",
      "/Users/mdclark/anaconda3/envs/python27/lib/python2.7/site-packages/ipykernel_launcher.py:18: UserWarning: loadtxt: Empty input file: \"avg_ctx-rh-temporalpole.1D\"\n"
     ]
    },
    {
     "name": "stdout",
     "output_type": "stream",
     "text": [
      "3dmaskave -quiet -mask /Users/mdclark/Desktop/ISCAnalysis/data/fmri/ts/nifti/sub-289/aseg_3mm+orig\"<110..110>\" sub-289_epi_all_preprocessed+orig > avg_ctx-rh-transversetemporal.1D\n",
      "3dmaskave -quiet -mask /Users/mdclark/Desktop/ISCAnalysis/data/fmri/ts/nifti/sub-289/aseg_3mm+orig\"<111..111>\" sub-289_epi_all_preprocessed+orig > avg_ctx-rh-insula.1D\n",
      "{'ctx-rh-precentral': [], 'ctx-lh-rostralmiddlefrontal': [], 'Left-Amygdala': [], 'ctx-lh-frontalpole': [], 'ctx-lh-caudalmiddlefrontal': [], 'ctx-rh-frontalpole': [], 'ctx-rh-parstriangularis': [], 'Left-Cerebellum-White-Matter': [], 'Right-Putamen': [], 'ctx-lh-inferiortemporal': [], 'ctx-lh-posteriorcingulate': [], 'ctx-rh-parahippocampal': [], 'ctx-lh-rostralanteriorcingulate': [], 'ctx-lh-fusiform': [], 'ctx-rh-medialorbitofrontal': [], 'ctx-rh-rostralmiddlefrontal': [], 'ctx-lh-lateraloccipital': [], 'Left-Lateral-Ventricle': [], 'ctx-rh-cuneus': [], 'ctx-rh-inferiortemporal': [], 'CC_Central': [], 'Right-Hippocampus': [], 'ctx-lh-lingual': [], 'Right-Caudate': [], 'Left-choroid-plexus': [], 'Left-Caudate': [], 'ctx-rh-temporalpole': [], 'ctx-rh-unknown': [], 'ctx-rh-rostralanteriorcingulate': [], 'ctx-lh-cuneus': [], 'ctx-rh-transversetemporal': [], '4th-Ventricle': [], 'Left-Hippocampus': [], 'Right-vessel': [], 'ctx-lh-temporalpole': [], 'ctx-lh-parstriangularis': [], 'ctx-lh-precentral': [], 'Right-Cerebellum-White-Matter': [], 'ctx-rh-superiorfrontal': [], 'ctx-lh-inferiorparietal': [], 'Left-Putamen': [], 'ctx-rh-isthmuscingulate': [], 'ctx-rh-parsopercularis': [], 'ctx-lh-transversetemporal': [], 'ctx-rh-posteriorcingulate': [], 'ctx-lh-lateralorbitofrontal': [], 'ctx-lh-parahippocampal': [], 'Right-Pallidum': [], 'Right-Amygdala': [], 'ctx-lh-pericalcarine': [], 'ctx-rh-parsorbitalis': [], 'ctx-lh-superiortemporal': [], 'ctx-lh-bankssts': [], 'WM-hypointensities': [], 'Brain-Stem': [], 'CSF': [], 'ctx-rh-pericalcarine': [], 'ctx-rh-lingual': [], 'Right-Cerebellum-Cortex': [], 'ctx-rh-caudalmiddlefrontal': [], 'ctx-rh-bankssts': [], 'ctx-lh-insula': [], 'ctx-rh-lateraloccipital': [], 'ctx-rh-middletemporal': [], 'ctx-lh-middletemporal': [], 'ctx-rh-superiortemporal': [], 'ctx-lh-supramarginal': [], 'ctx-lh-postcentral': [], 'Right-choroid-plexus': [], 'ctx-rh-fusiform': [], 'Left-Cerebral-White-Matter': [], 'ctx-lh-entorhinal': [], 'CC_Mid_Anterior': [], 'Right-Cerebral-White-Matter': [], 'ctx-lh-isthmuscingulate': [], 'ctx-lh-unknown': [], 'ctx-rh-entorhinal': [], 'Right-Lateral-Ventricle': [], 'ctx-rh-superiorparietal': [], 'ctx-rh-caudalanteriorcingulate': [], 'Left-Thalamus-Proper': [], 'ctx-rh-paracentral': [], 'Optic-Chiasm': [], 'Left-Cerebellum-Cortex': [], 'ctx-lh-caudalanteriorcingulate': [], 'Left-vessel': [], 'ctx-rh-supramarginal': [], 'CC_Posterior': [], 'ctx-rh-inferiorparietal': [], 'ctx-lh-superiorparietal': [], 'ctx-rh-postcentral': [], 'Left-VentralDC': [], 'ctx-lh-parsorbitalis': [], 'ctx-rh-insula': [], 'Right-VentralDC': [], 'ctx-rh-lateralorbitofrontal': [], 'ctx-lh-paracentral': [], 'CC_Mid_Posterior': [], 'ctx-lh-precuneus': [], 'ctx-lh-superiorfrontal': [], 'Left-Accumbens-area': [], 'Right-Accumbens-area': [], 'Right-Inf-Lat-Vent': [], 'ctx-lh-parsopercularis': [], 'ctx-rh-precuneus': [], 'Right-Thalamus-Proper': [], 'Left-Inf-Lat-Vent': [], 'ctx-lh-medialorbitofrontal': [], '3rd-Ventricle': [], 'CC_Anterior': [], 'Left-Pallidum': []}\n"
     ]
    },
    {
     "name": "stderr",
     "output_type": "stream",
     "text": [
      "/Users/mdclark/anaconda3/envs/python27/lib/python2.7/site-packages/ipykernel_launcher.py:18: UserWarning: loadtxt: Empty input file: \"avg_ctx-rh-transversetemporal.1D\"\n",
      "/Users/mdclark/anaconda3/envs/python27/lib/python2.7/site-packages/ipykernel_launcher.py:18: UserWarning: loadtxt: Empty input file: \"avg_ctx-rh-insula.1D\"\n"
     ]
    }
   ],
   "source": [
    "    # dictionary to store preprocessed time series indexed by ROI\n",
    "    subj_ts_dict = {}\n",
    "\n",
    "    for roi_id in all_roi_num:\n",
    "        # extract ROI label form ROI dictionary\n",
    "        label_roi = roi_dict[str(roi_id)]\n",
    "\n",
    "        # Extract the average time series across voxels that ROI\n",
    "        avg_cmd = (\"\"\"3dmaskave -quiet -mask {}_3mm+orig\"<{}..{}>\" {}+orig > avg_{}.1D\"\"\").format(aparc, roi_id, roi_id, all_epi, label_roi)\n",
    "        sh(avg_cmd)\n",
    "        \n",
    "        print(avg_cmd)\n",
    "\n",
    "        # Then read in the 1D file generated by the above command (average time\n",
    "        # series across voxels within a given ROI) and add it to a dictionary\n",
    "        # indexed by ROI label\n",
    "        this_vec = \"avg_{}.1D\".format(label_roi)\n",
    "        subj_ts_dict[label_roi] = np.loadtxt(this_vec).tolist()\n",
    "        \n",
    "    print(subj_ts_dict)\n",
    "\n",
    "    # save dictionary to a text file with json encoding\n",
    "    ld_writeDicts('{}_roi_dk_atlas_ts_dict.json'.format(subject), subj_ts_dict)\n",
    "\n",
    "    # move the individual ROI-wise time series 1D files to their own sub-directory\n",
    "    sub_dir = \"{}/avg\".format(nifti_dir)\n",
    "    if not os.path.exists(sub_dir):\n",
    "        os.makedirs(sub_dir) # create qvecs if it doesn't exist\n",
    "    mv_sub_cmd = \"mv avg*1D avg/\"\n",
    "    sh(mv_sub_cmd)\n"
   ]
  },
  {
   "cell_type": "code",
   "execution_count": null,
   "metadata": {
    "collapsed": true
   },
   "outputs": [],
   "source": []
  }
 ],
 "metadata": {
  "kernelspec": {
   "display_name": "Python 2",
   "language": "python",
   "name": "python2"
  },
  "language_info": {
   "codemirror_mode": {
    "name": "ipython",
    "version": 2
   },
   "file_extension": ".py",
   "mimetype": "text/x-python",
   "name": "python",
   "nbconvert_exporter": "python",
   "pygments_lexer": "ipython2",
   "version": "2.7.13"
  }
 },
 "nbformat": 4,
 "nbformat_minor": 2
}
